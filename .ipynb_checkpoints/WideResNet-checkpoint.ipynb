{
 "cells": [
  {
   "cell_type": "markdown",
   "metadata": {
    "id": "wiTQibprRnlj"
   },
   "source": [
    "# **Cifar10 image classification**\n",
    "******************************************\n",
    "**점수관련**  \n",
    "본 프로젝트는 Accuracy 점수와 보고서를 성적에 반영할 예정입니다. 평가 항목은 아래와 같습니다. \n",
    "\n",
    "A. 결과 (40%)\n",
    "- Metric 성능 :(이미지 분류 - Accuracy)\n",
    "\n",
    "B. 신규성 (30%)\n",
    "- Network 변경 내용 - **필수**\n",
    "- 성능 개선 및 overfitting 방지 시도 (ex. train validation split)\n",
    "\n",
    "C. 이론적 근거 (20%)\n",
    "- 기존 baseline과의 차별점 \n",
    "- 성능 개선을 위한 시도와 이유\n",
    "\n",
    "D. 보고서 완성도 (10%)\n",
    "\n",
    "******************************************\n",
    "**보고서**\n",
    "1. 연구 목적\n",
    "2. 모델 구조\n",
    "3. 실험 내용\n",
    "4. 실험 결과\n",
    "5. 고찰 및 결론\n",
    "6. Colab 파일 (동작 가능여부)\n",
    "\n",
    "제출하실 파일은 **주피터 노트북 파일**('.ipynb',파일>다운로드)과 **결과 보고서**(pdf)입니다.\n",
    "******************************************\n",
    "**코드 검증**  \n",
    "- 코드 성능 평가(metric)는 torchvision.datasets에 있는 cifar10의 testset을 사용해 Accuracy로 평가합니다.\n",
    "- pretrain 모델 사용 불가능합니다.\n",
    "\n",
    "또한 Random 라이브러리 사용시에 seed 고정하는 등 재현을 고려하시고 코딩부탁드립니다. \n",
    "******************************************\n",
    "**GPU 사용 법**  \n",
    "런타임 > 런타임 유형 변경 > 하드웨어 가속기에서 GPU를 선택하면 GPU를 사용 할 수 있습니다.  \n",
    "******************************************\n",
    "**Colab 사용시 유의사항**  \n",
    "12시간 단위로 가상머신을 사용할 수 있고 12시간이 지나면 모든 파일과 작업로그들이 초기화 됩니다. 또한, 12시간 넘게 GPU를 사용하기는 어려우니 일찍 시작하셔서 틈틈히 실험해보시는 것을 추천드립니다.\n",
    "\n",
    "\n",
    "******************************************\n",
    "**Q?**"
   ]
  },
  {
   "cell_type": "code",
   "execution_count": null,
   "metadata": {
    "id": "CTVqQzTrIwTx"
   },
   "outputs": [],
   "source": []
  },
  {
   "cell_type": "code",
   "execution_count": 1,
   "metadata": {
    "id": "NtweS09sMWoh"
   },
   "outputs": [],
   "source": [
    "# Training\n",
    "import torch\n",
    "import torchvision\n",
    "import torchvision.transforms as transforms\n",
    "from torch.utils.data import DataLoader\n",
    "import torch.nn as nn\n",
    "import torch.nn.functional as F\n",
    "import torch.optim as optim\n",
    "import matplotlib.pyplot as plt\n",
    "import numpy as np\n",
    "from tqdm import tqdm as tqdm\n",
    "import time\n",
    "import os\n",
    "os.environ[\"CUDA_DEVICE_ORDER\"]=\"PCI_BUS_ID\"\n",
    "os.environ[\"CUDA_VISIBLE_DEVICES\"]=\"0\"\n",
    "\n"
   ]
  },
  {
   "cell_type": "code",
   "execution_count": 2,
   "metadata": {
    "colab": {
     "base_uri": "https://localhost:8080/"
    },
    "id": "NV_iVhYhJmMB",
    "outputId": "33447616-9cb4-4697-d852-37ca3e9f7b6b"
   },
   "outputs": [
    {
     "name": "stdout",
     "output_type": "stream",
     "text": [
      "Sat Oct 30 19:43:08 2021       \r\n",
      "+-----------------------------------------------------------------------------+\r\n",
      "| NVIDIA-SMI 470.57.02    Driver Version: 470.57.02    CUDA Version: 11.4     |\r\n",
      "|-------------------------------+----------------------+----------------------+\r\n",
      "| GPU  Name        Persistence-M| Bus-Id        Disp.A | Volatile Uncorr. ECC |\r\n",
      "| Fan  Temp  Perf  Pwr:Usage/Cap|         Memory-Usage | GPU-Util  Compute M. |\r\n",
      "|                               |                      |               MIG M. |\r\n",
      "|===============================+======================+======================|\r\n",
      "|   0  NVIDIA GeForce ...  Off  | 00000000:01:00.0 Off |                  N/A |\r\n",
      "| 35%   35C    P5    28W / 260W |     21MiB / 11016MiB |      6%      Default |\r\n",
      "|                               |                      |                  N/A |\r\n",
      "+-------------------------------+----------------------+----------------------+\r\n",
      "|   1  NVIDIA GeForce ...  Off  | 00000000:03:00.0 Off |                  N/A |\r\n",
      "|  0%   40C    P8    12W / 340W |   2019MiB / 10018MiB |      0%      Default |\r\n",
      "|                               |                      |                  N/A |\r\n",
      "+-------------------------------+----------------------+----------------------+\r\n",
      "                                                                               \r\n",
      "+-----------------------------------------------------------------------------+\r\n",
      "| Processes:                                                                  |\r\n",
      "|  GPU   GI   CI        PID   Type   Process name                  GPU Memory |\r\n",
      "|        ID   ID                                                   Usage      |\r\n",
      "|=============================================================================|\r\n",
      "+-----------------------------------------------------------------------------+\r\n"
     ]
    }
   ],
   "source": [
    "!nvidia-smi"
   ]
  },
  {
   "cell_type": "code",
   "execution_count": 3,
   "metadata": {
    "colab": {
     "base_uri": "https://localhost:8080/",
     "height": 120,
     "referenced_widgets": [
      "1996b2035d394feb8ddea161be66e787",
      "9acbedbeaa724ce08dffeddc71222505",
      "2d011007d89c4aad96b59ab60216ab9b",
      "3d976f276c2242bdb3dc84857838b627",
      "69306e2c35aa46e8b951227a9c3e9696",
      "a0b54dda21fc4fc8b8262d899d385dfe",
      "117786fb9ad04bbfba9000efc67417ca",
      "30bffec40690426489b084343473f2bb",
      "a7f8572bbbcb42c39c2bd7287d4ccdba",
      "665730bcefbd4ec79ff322d8fdcac2fe",
      "4c74f0cd1e2d461a8b64740fa8b61c29"
     ]
    },
    "id": "pmO0w741Ilao",
    "outputId": "a3c65b18-5958-4849-de9c-0872f093ecd3",
    "scrolled": true
   },
   "outputs": [
    {
     "name": "stdout",
     "output_type": "stream",
     "text": [
      "cuda:0 is available\n",
      "Files already downloaded and verified\n",
      "Files already downloaded and verified\n"
     ]
    }
   ],
   "source": [
    "# 하이퍼 파라미터\n",
    "EPOCH = 200\n",
    "batch_size = 64\n",
    "learning_rate = 0.1\n",
    "momentum = 0.9\n",
    "weight_decay = 5e-4\n",
    "\n",
    "device = torch.device('cuda:0' if torch.cuda.is_available() else 'cpu')\n",
    "print(f'{device} is available')\n",
    "\n",
    "# 분류 Class list\n",
    "classes = ('plane', 'car', 'bird', 'cat',\n",
    "           'deer', 'dog', 'frog', 'horse', 'ship', 'truck')\n",
    "\n",
    "\n",
    "# 이미지 전처리\n",
    "transform = transforms.Compose([\n",
    "    transforms.RandomHorizontalFlip(),\n",
    "    transforms.RandomCrop(32, padding=4),\n",
    "    transforms.ToTensor(),\n",
    "    transforms.Normalize((0.5,0.5,0.5), (0.5,0.5,0.5))\n",
    "])\n",
    "\n",
    "# Dataset. 변경 불가\n",
    "trainset = torchvision.datasets.CIFAR10(root='./data', train=True, download=True, transform=transform)\n",
    "testset = torchvision.datasets.CIFAR10(root='./data', train=False, download=True, transform=transform)\n",
    "trainloader = torch.utils.data.DataLoader(trainset, batch_size=batch_size, shuffle=True)\n",
    "testloader = torch.utils.data.DataLoader(testset, batch_size=batch_size, shuffle=False)\n"
   ]
  },
  {
   "cell_type": "code",
   "execution_count": 4,
   "metadata": {
    "id": "Hhzrl2X5I938"
   },
   "outputs": [],
   "source": [
    "class WideModule(nn.Module):\n",
    "    def __init__(self, in_planes, planes, dropout_rate, stride=1):\n",
    "        super(WideModule, self).__init__()\n",
    "        self.bn1 = nn.BatchNorm2d(in_planes)\n",
    "        self.conv1 = nn.Conv2d(in_planes, planes, kernel_size=3, padding=1, bias=True)\n",
    "        self.dropout = nn.Dropout(p=dropout_rate)\n",
    "\n",
    "        self.bn2 = nn.BatchNorm2d(planes)\n",
    "        self.conv2 = nn.Conv2d(planes, planes, kernel_size=3, stride=stride, padding=1, bias=True)\n",
    "\n",
    "        self.shortcut = nn.Sequential()\n",
    "        if stride != 1 or in_planes != planes:  # Shortcut 부분에서 input과 output Feature Map이 달라진 경우 보정시켜줌.\n",
    "            self.shortcut = nn.Sequential(\n",
    "                nn.Conv2d(in_planes, planes, kernel_size=1, stride=stride, bias=True)\n",
    "            )\n",
    "\n",
    "    def forward(self, x):\n",
    "        out = self.bn1(x)\n",
    "        out = F.relu(out)\n",
    "        out = self.conv1(out)\n",
    "        out = self.dropout(out)\n",
    "\n",
    "        out = self.bn2(out)\n",
    "        out = F.relu(out)\n",
    "        out = self.conv2(out)\n",
    "\n",
    "        out += self.shortcut(x)\n",
    "        return out\n",
    "\n",
    "\n",
    "class WideResnet(nn.Module):\n",
    "    def __init__(self, depth, widen_factor, dropout_rate, num_classes=10):\n",
    "        super(WideResnet, self).__init__()\n",
    "        self.in_planes = 16\n",
    "\n",
    "        n = (depth - 4) / 6     # 최소 CONV : (conv1,2,3,4) + 6 * N\n",
    "        k = widen_factor\n",
    "\n",
    "        groups = [16, 16*k, 32*k, 64*k]\n",
    "\n",
    "        self.conv1 = nn.Conv2d(3, groups[0], kernel_size=3, stride=1, padding=1, bias=True)\n",
    "        self.layer1 = self._wide_layer(WideModule, groups[1], n, dropout_rate, stride=1)\n",
    "        self.layer2 = self._wide_layer(WideModule, groups[2], n, dropout_rate, stride=2)\n",
    "        self.layer3 = self._wide_layer(WideModule, groups[3], n, dropout_rate, stride=2)\n",
    "        self.bn1 = nn.BatchNorm2d(groups[3])\n",
    "        self.linear = nn.Linear(groups[3], num_classes)\n",
    "\n",
    "    def _wide_layer(self, block, planes, num_blocks, dropout_rate, stride):\n",
    "        strides = [stride] + [1]*(int(num_blocks)-1)\n",
    "        layers = []\n",
    "\n",
    "        for stride in strides:\n",
    "            layers.append(block(self.in_planes, planes, dropout_rate, stride))\n",
    "            self.in_planes = planes\n",
    "\n",
    "        return nn.Sequential(*layers)\n",
    "\n",
    "    def forward(self, x):\n",
    "        out = self.conv1(x)\n",
    "        out = self.layer1(out)\n",
    "        out = self.layer2(out)\n",
    "        out = self.layer3(out)\n",
    "        out = F.relu(self.bn1(out))\n",
    "        out = F.avg_pool2d(out, 8)\n",
    "        out = out.view(out.size(0), -1)\n",
    "        out = self.linear(out)\n",
    "\n",
    "        return out\n",
    "#\n",
    "# if __name__ == \"__main__\":\n",
    "#     net = WideResnet(28, 10, 0.3, 10)   # N=28, k=10, dropout rate = 0.3일 때 가장 결과가 좋았다고 함.\n"
   ]
  },
  {
   "cell_type": "code",
   "execution_count": 5,
   "metadata": {
    "id": "N2M_5k1qI939"
   },
   "outputs": [
    {
     "data": {
      "text/plain": [
       "WideResnet(\n",
       "  (conv1): Conv2d(3, 16, kernel_size=(3, 3), stride=(1, 1), padding=(1, 1))\n",
       "  (layer1): Sequential(\n",
       "    (0): WideModule(\n",
       "      (bn1): BatchNorm2d(16, eps=1e-05, momentum=0.1, affine=True, track_running_stats=True)\n",
       "      (conv1): Conv2d(16, 160, kernel_size=(3, 3), stride=(1, 1), padding=(1, 1))\n",
       "      (dropout): Dropout(p=0.3, inplace=False)\n",
       "      (bn2): BatchNorm2d(160, eps=1e-05, momentum=0.1, affine=True, track_running_stats=True)\n",
       "      (conv2): Conv2d(160, 160, kernel_size=(3, 3), stride=(1, 1), padding=(1, 1))\n",
       "      (shortcut): Sequential(\n",
       "        (0): Conv2d(16, 160, kernel_size=(1, 1), stride=(1, 1))\n",
       "      )\n",
       "    )\n",
       "    (1): WideModule(\n",
       "      (bn1): BatchNorm2d(160, eps=1e-05, momentum=0.1, affine=True, track_running_stats=True)\n",
       "      (conv1): Conv2d(160, 160, kernel_size=(3, 3), stride=(1, 1), padding=(1, 1))\n",
       "      (dropout): Dropout(p=0.3, inplace=False)\n",
       "      (bn2): BatchNorm2d(160, eps=1e-05, momentum=0.1, affine=True, track_running_stats=True)\n",
       "      (conv2): Conv2d(160, 160, kernel_size=(3, 3), stride=(1, 1), padding=(1, 1))\n",
       "      (shortcut): Sequential()\n",
       "    )\n",
       "    (2): WideModule(\n",
       "      (bn1): BatchNorm2d(160, eps=1e-05, momentum=0.1, affine=True, track_running_stats=True)\n",
       "      (conv1): Conv2d(160, 160, kernel_size=(3, 3), stride=(1, 1), padding=(1, 1))\n",
       "      (dropout): Dropout(p=0.3, inplace=False)\n",
       "      (bn2): BatchNorm2d(160, eps=1e-05, momentum=0.1, affine=True, track_running_stats=True)\n",
       "      (conv2): Conv2d(160, 160, kernel_size=(3, 3), stride=(1, 1), padding=(1, 1))\n",
       "      (shortcut): Sequential()\n",
       "    )\n",
       "    (3): WideModule(\n",
       "      (bn1): BatchNorm2d(160, eps=1e-05, momentum=0.1, affine=True, track_running_stats=True)\n",
       "      (conv1): Conv2d(160, 160, kernel_size=(3, 3), stride=(1, 1), padding=(1, 1))\n",
       "      (dropout): Dropout(p=0.3, inplace=False)\n",
       "      (bn2): BatchNorm2d(160, eps=1e-05, momentum=0.1, affine=True, track_running_stats=True)\n",
       "      (conv2): Conv2d(160, 160, kernel_size=(3, 3), stride=(1, 1), padding=(1, 1))\n",
       "      (shortcut): Sequential()\n",
       "    )\n",
       "  )\n",
       "  (layer2): Sequential(\n",
       "    (0): WideModule(\n",
       "      (bn1): BatchNorm2d(160, eps=1e-05, momentum=0.1, affine=True, track_running_stats=True)\n",
       "      (conv1): Conv2d(160, 320, kernel_size=(3, 3), stride=(1, 1), padding=(1, 1))\n",
       "      (dropout): Dropout(p=0.3, inplace=False)\n",
       "      (bn2): BatchNorm2d(320, eps=1e-05, momentum=0.1, affine=True, track_running_stats=True)\n",
       "      (conv2): Conv2d(320, 320, kernel_size=(3, 3), stride=(2, 2), padding=(1, 1))\n",
       "      (shortcut): Sequential(\n",
       "        (0): Conv2d(160, 320, kernel_size=(1, 1), stride=(2, 2))\n",
       "      )\n",
       "    )\n",
       "    (1): WideModule(\n",
       "      (bn1): BatchNorm2d(320, eps=1e-05, momentum=0.1, affine=True, track_running_stats=True)\n",
       "      (conv1): Conv2d(320, 320, kernel_size=(3, 3), stride=(1, 1), padding=(1, 1))\n",
       "      (dropout): Dropout(p=0.3, inplace=False)\n",
       "      (bn2): BatchNorm2d(320, eps=1e-05, momentum=0.1, affine=True, track_running_stats=True)\n",
       "      (conv2): Conv2d(320, 320, kernel_size=(3, 3), stride=(1, 1), padding=(1, 1))\n",
       "      (shortcut): Sequential()\n",
       "    )\n",
       "    (2): WideModule(\n",
       "      (bn1): BatchNorm2d(320, eps=1e-05, momentum=0.1, affine=True, track_running_stats=True)\n",
       "      (conv1): Conv2d(320, 320, kernel_size=(3, 3), stride=(1, 1), padding=(1, 1))\n",
       "      (dropout): Dropout(p=0.3, inplace=False)\n",
       "      (bn2): BatchNorm2d(320, eps=1e-05, momentum=0.1, affine=True, track_running_stats=True)\n",
       "      (conv2): Conv2d(320, 320, kernel_size=(3, 3), stride=(1, 1), padding=(1, 1))\n",
       "      (shortcut): Sequential()\n",
       "    )\n",
       "    (3): WideModule(\n",
       "      (bn1): BatchNorm2d(320, eps=1e-05, momentum=0.1, affine=True, track_running_stats=True)\n",
       "      (conv1): Conv2d(320, 320, kernel_size=(3, 3), stride=(1, 1), padding=(1, 1))\n",
       "      (dropout): Dropout(p=0.3, inplace=False)\n",
       "      (bn2): BatchNorm2d(320, eps=1e-05, momentum=0.1, affine=True, track_running_stats=True)\n",
       "      (conv2): Conv2d(320, 320, kernel_size=(3, 3), stride=(1, 1), padding=(1, 1))\n",
       "      (shortcut): Sequential()\n",
       "    )\n",
       "  )\n",
       "  (layer3): Sequential(\n",
       "    (0): WideModule(\n",
       "      (bn1): BatchNorm2d(320, eps=1e-05, momentum=0.1, affine=True, track_running_stats=True)\n",
       "      (conv1): Conv2d(320, 640, kernel_size=(3, 3), stride=(1, 1), padding=(1, 1))\n",
       "      (dropout): Dropout(p=0.3, inplace=False)\n",
       "      (bn2): BatchNorm2d(640, eps=1e-05, momentum=0.1, affine=True, track_running_stats=True)\n",
       "      (conv2): Conv2d(640, 640, kernel_size=(3, 3), stride=(2, 2), padding=(1, 1))\n",
       "      (shortcut): Sequential(\n",
       "        (0): Conv2d(320, 640, kernel_size=(1, 1), stride=(2, 2))\n",
       "      )\n",
       "    )\n",
       "    (1): WideModule(\n",
       "      (bn1): BatchNorm2d(640, eps=1e-05, momentum=0.1, affine=True, track_running_stats=True)\n",
       "      (conv1): Conv2d(640, 640, kernel_size=(3, 3), stride=(1, 1), padding=(1, 1))\n",
       "      (dropout): Dropout(p=0.3, inplace=False)\n",
       "      (bn2): BatchNorm2d(640, eps=1e-05, momentum=0.1, affine=True, track_running_stats=True)\n",
       "      (conv2): Conv2d(640, 640, kernel_size=(3, 3), stride=(1, 1), padding=(1, 1))\n",
       "      (shortcut): Sequential()\n",
       "    )\n",
       "    (2): WideModule(\n",
       "      (bn1): BatchNorm2d(640, eps=1e-05, momentum=0.1, affine=True, track_running_stats=True)\n",
       "      (conv1): Conv2d(640, 640, kernel_size=(3, 3), stride=(1, 1), padding=(1, 1))\n",
       "      (dropout): Dropout(p=0.3, inplace=False)\n",
       "      (bn2): BatchNorm2d(640, eps=1e-05, momentum=0.1, affine=True, track_running_stats=True)\n",
       "      (conv2): Conv2d(640, 640, kernel_size=(3, 3), stride=(1, 1), padding=(1, 1))\n",
       "      (shortcut): Sequential()\n",
       "    )\n",
       "    (3): WideModule(\n",
       "      (bn1): BatchNorm2d(640, eps=1e-05, momentum=0.1, affine=True, track_running_stats=True)\n",
       "      (conv1): Conv2d(640, 640, kernel_size=(3, 3), stride=(1, 1), padding=(1, 1))\n",
       "      (dropout): Dropout(p=0.3, inplace=False)\n",
       "      (bn2): BatchNorm2d(640, eps=1e-05, momentum=0.1, affine=True, track_running_stats=True)\n",
       "      (conv2): Conv2d(640, 640, kernel_size=(3, 3), stride=(1, 1), padding=(1, 1))\n",
       "      (shortcut): Sequential()\n",
       "    )\n",
       "  )\n",
       "  (bn1): BatchNorm2d(640, eps=1e-05, momentum=0.1, affine=True, track_running_stats=True)\n",
       "  (linear): Linear(in_features=640, out_features=10, bias=True)\n",
       ")"
      ]
     },
     "execution_count": 5,
     "metadata": {},
     "output_type": "execute_result"
    }
   ],
   "source": [
    "model = WideResnet(28, 10, 0.0, 10)   # N(number of layers) = 28,  k(widen_factor) = 10\n",
    "model.to(device)"
   ]
  },
  {
   "cell_type": "code",
   "execution_count": 6,
   "metadata": {
    "colab": {
     "base_uri": "https://localhost:8080/",
     "height": 276
    },
    "id": "RFG0KEDpIWRJ",
    "outputId": "9134cc75-5a4c-416a-d381-54489c973d45"
   },
   "outputs": [
    {
     "name": "stderr",
     "output_type": "stream",
     "text": [
      "\r",
      "  0%|          | 0/782 [00:00<?, ?it/s]"
     ]
    },
    {
     "name": "stdout",
     "output_type": "stream",
     "text": [
      "Adjusting learning rate of group 0 to 1.0000e-01.\n"
     ]
    },
    {
     "name": "stderr",
     "output_type": "stream",
     "text": [
      "100%|██████████| 782/782 [02:08<00:00,  6.07it/s]\n",
      "  0%|          | 1/782 [00:00<02:13,  5.87it/s]"
     ]
    },
    {
     "name": "stdout",
     "output_type": "stream",
     "text": [
      "[1] loss: 1.613\n",
      "epoch time : 128.8229203224182\n"
     ]
    },
    {
     "name": "stderr",
     "output_type": "stream",
     "text": [
      "100%|██████████| 782/782 [02:10<00:00,  6.00it/s]\n",
      "  0%|          | 1/782 [00:00<02:19,  5.60it/s]"
     ]
    },
    {
     "name": "stdout",
     "output_type": "stream",
     "text": [
      "[2] loss: 1.064\n",
      "epoch time : 130.3539047241211\n"
     ]
    },
    {
     "name": "stderr",
     "output_type": "stream",
     "text": [
      "100%|██████████| 782/782 [02:11<00:00,  5.96it/s]\n",
      "  0%|          | 1/782 [00:00<02:20,  5.57it/s]"
     ]
    },
    {
     "name": "stdout",
     "output_type": "stream",
     "text": [
      "[3] loss: 0.882\n",
      "epoch time : 131.13894295692444\n"
     ]
    },
    {
     "name": "stderr",
     "output_type": "stream",
     "text": [
      "100%|██████████| 782/782 [02:11<00:00,  5.96it/s]\n",
      "  0%|          | 1/782 [00:00<02:20,  5.55it/s]"
     ]
    },
    {
     "name": "stdout",
     "output_type": "stream",
     "text": [
      "[4] loss: 0.760\n",
      "epoch time : 131.22101426124573\n"
     ]
    },
    {
     "name": "stderr",
     "output_type": "stream",
     "text": [
      "100%|██████████| 782/782 [02:11<00:00,  5.96it/s]\n",
      "  0%|          | 1/782 [00:00<02:20,  5.55it/s]"
     ]
    },
    {
     "name": "stdout",
     "output_type": "stream",
     "text": [
      "[5] loss: 0.672\n",
      "epoch time : 131.11391377449036\n"
     ]
    },
    {
     "name": "stderr",
     "output_type": "stream",
     "text": [
      "100%|██████████| 782/782 [02:11<00:00,  5.97it/s]\n",
      "  0%|          | 1/782 [00:00<02:20,  5.55it/s]"
     ]
    },
    {
     "name": "stdout",
     "output_type": "stream",
     "text": [
      "[6] loss: 0.627\n",
      "epoch time : 131.06630444526672\n"
     ]
    },
    {
     "name": "stderr",
     "output_type": "stream",
     "text": [
      "100%|██████████| 782/782 [02:10<00:00,  5.97it/s]\n",
      "  0%|          | 1/782 [00:00<02:18,  5.66it/s]"
     ]
    },
    {
     "name": "stdout",
     "output_type": "stream",
     "text": [
      "[7] loss: 0.593\n",
      "epoch time : 130.98068594932556\n"
     ]
    },
    {
     "name": "stderr",
     "output_type": "stream",
     "text": [
      "100%|██████████| 782/782 [02:10<00:00,  5.98it/s]\n",
      "  0%|          | 1/782 [00:00<02:20,  5.57it/s]"
     ]
    },
    {
     "name": "stdout",
     "output_type": "stream",
     "text": [
      "[8] loss: 0.563\n",
      "epoch time : 130.8442940711975\n"
     ]
    },
    {
     "name": "stderr",
     "output_type": "stream",
     "text": [
      "100%|██████████| 782/782 [02:10<00:00,  5.97it/s]\n",
      "  0%|          | 1/782 [00:00<02:23,  5.46it/s]"
     ]
    },
    {
     "name": "stdout",
     "output_type": "stream",
     "text": [
      "[9] loss: 0.548\n",
      "epoch time : 130.99090385437012\n"
     ]
    },
    {
     "name": "stderr",
     "output_type": "stream",
     "text": [
      "100%|██████████| 782/782 [02:10<00:00,  5.98it/s]\n",
      "  0%|          | 1/782 [00:00<02:15,  5.75it/s]"
     ]
    },
    {
     "name": "stdout",
     "output_type": "stream",
     "text": [
      "[10] loss: 0.519\n",
      "epoch time : 131.16630792617798\n"
     ]
    },
    {
     "name": "stderr",
     "output_type": "stream",
     "text": [
      "100%|██████████| 782/782 [02:10<00:00,  5.98it/s]\n",
      "  0%|          | 1/782 [00:00<02:19,  5.59it/s]"
     ]
    },
    {
     "name": "stdout",
     "output_type": "stream",
     "text": [
      "[11] loss: 0.515\n",
      "epoch time : 130.85277605056763\n"
     ]
    },
    {
     "name": "stderr",
     "output_type": "stream",
     "text": [
      "100%|██████████| 782/782 [02:10<00:00,  5.97it/s]\n",
      "  0%|          | 1/782 [00:00<02:19,  5.60it/s]"
     ]
    },
    {
     "name": "stdout",
     "output_type": "stream",
     "text": [
      "[12] loss: 0.502\n",
      "epoch time : 130.91334915161133\n"
     ]
    },
    {
     "name": "stderr",
     "output_type": "stream",
     "text": [
      "100%|██████████| 782/782 [02:10<00:00,  5.98it/s]\n",
      "  0%|          | 1/782 [00:00<02:19,  5.58it/s]"
     ]
    },
    {
     "name": "stdout",
     "output_type": "stream",
     "text": [
      "[13] loss: 0.493\n",
      "epoch time : 130.80041074752808\n"
     ]
    },
    {
     "name": "stderr",
     "output_type": "stream",
     "text": [
      "100%|██████████| 782/782 [02:10<00:00,  5.98it/s]\n",
      "  0%|          | 1/782 [00:00<02:19,  5.58it/s]"
     ]
    },
    {
     "name": "stdout",
     "output_type": "stream",
     "text": [
      "[14] loss: 0.482\n",
      "epoch time : 130.86446523666382\n"
     ]
    },
    {
     "name": "stderr",
     "output_type": "stream",
     "text": [
      "100%|██████████| 782/782 [02:10<00:00,  5.97it/s]\n",
      "  0%|          | 1/782 [00:00<02:19,  5.58it/s]"
     ]
    },
    {
     "name": "stdout",
     "output_type": "stream",
     "text": [
      "[15] loss: 0.477\n",
      "epoch time : 130.88460850715637\n"
     ]
    },
    {
     "name": "stderr",
     "output_type": "stream",
     "text": [
      "100%|██████████| 782/782 [02:10<00:00,  5.98it/s]\n",
      "  0%|          | 1/782 [00:00<02:19,  5.61it/s]"
     ]
    },
    {
     "name": "stdout",
     "output_type": "stream",
     "text": [
      "[16] loss: 0.476\n",
      "epoch time : 130.77775502204895\n"
     ]
    },
    {
     "name": "stderr",
     "output_type": "stream",
     "text": [
      "100%|██████████| 782/782 [02:10<00:00,  5.98it/s]\n",
      "  0%|          | 1/782 [00:00<02:19,  5.59it/s]"
     ]
    },
    {
     "name": "stdout",
     "output_type": "stream",
     "text": [
      "[17] loss: 0.466\n",
      "epoch time : 130.67057037353516\n"
     ]
    },
    {
     "name": "stderr",
     "output_type": "stream",
     "text": [
      "100%|██████████| 782/782 [02:10<00:00,  5.99it/s]\n",
      "  0%|          | 1/782 [00:00<02:19,  5.58it/s]"
     ]
    },
    {
     "name": "stdout",
     "output_type": "stream",
     "text": [
      "[18] loss: 0.461\n",
      "epoch time : 130.62450671195984\n"
     ]
    },
    {
     "name": "stderr",
     "output_type": "stream",
     "text": [
      "100%|██████████| 782/782 [02:10<00:00,  5.99it/s]\n",
      "  0%|          | 1/782 [00:00<02:11,  5.92it/s]"
     ]
    },
    {
     "name": "stdout",
     "output_type": "stream",
     "text": [
      "[19] loss: 0.458\n",
      "epoch time : 130.61815786361694\n"
     ]
    },
    {
     "name": "stderr",
     "output_type": "stream",
     "text": [
      "100%|██████████| 782/782 [02:10<00:00,  5.98it/s]\n",
      "  0%|          | 1/782 [00:00<02:22,  5.48it/s]"
     ]
    },
    {
     "name": "stdout",
     "output_type": "stream",
     "text": [
      "[20] loss: 0.454\n",
      "epoch time : 131.04500031471252\n"
     ]
    },
    {
     "name": "stderr",
     "output_type": "stream",
     "text": [
      "100%|██████████| 782/782 [02:10<00:00,  5.99it/s]\n",
      "  0%|          | 1/782 [00:00<02:12,  5.90it/s]"
     ]
    },
    {
     "name": "stdout",
     "output_type": "stream",
     "text": [
      "[21] loss: 0.452\n",
      "epoch time : 130.65139198303223\n"
     ]
    },
    {
     "name": "stderr",
     "output_type": "stream",
     "text": [
      "100%|██████████| 782/782 [02:10<00:00,  6.00it/s]\n",
      "  0%|          | 1/782 [00:00<02:18,  5.64it/s]"
     ]
    },
    {
     "name": "stdout",
     "output_type": "stream",
     "text": [
      "[22] loss: 0.445\n",
      "epoch time : 130.4397110939026\n"
     ]
    },
    {
     "name": "stderr",
     "output_type": "stream",
     "text": [
      "100%|██████████| 782/782 [02:10<00:00,  5.99it/s]\n",
      "  0%|          | 1/782 [00:00<02:20,  5.58it/s]"
     ]
    },
    {
     "name": "stdout",
     "output_type": "stream",
     "text": [
      "[23] loss: 0.439\n",
      "epoch time : 130.4548773765564\n"
     ]
    },
    {
     "name": "stderr",
     "output_type": "stream",
     "text": [
      "100%|██████████| 782/782 [02:10<00:00,  5.99it/s]\n",
      "  0%|          | 1/782 [00:00<02:12,  5.90it/s]"
     ]
    },
    {
     "name": "stdout",
     "output_type": "stream",
     "text": [
      "[24] loss: 0.440\n",
      "epoch time : 130.59253764152527\n"
     ]
    },
    {
     "name": "stderr",
     "output_type": "stream",
     "text": [
      "100%|██████████| 782/782 [02:10<00:00,  5.99it/s]\n",
      "  0%|          | 1/782 [00:00<02:17,  5.66it/s]"
     ]
    },
    {
     "name": "stdout",
     "output_type": "stream",
     "text": [
      "[25] loss: 0.437\n",
      "epoch time : 130.6014006137848\n"
     ]
    },
    {
     "name": "stderr",
     "output_type": "stream",
     "text": [
      "100%|██████████| 782/782 [02:10<00:00,  5.99it/s]\n",
      "  0%|          | 1/782 [00:00<02:19,  5.60it/s]"
     ]
    },
    {
     "name": "stdout",
     "output_type": "stream",
     "text": [
      "[26] loss: 0.433\n",
      "epoch time : 130.4871120452881\n"
     ]
    },
    {
     "name": "stderr",
     "output_type": "stream",
     "text": [
      "100%|██████████| 782/782 [02:10<00:00,  5.98it/s]\n",
      "  0%|          | 1/782 [00:00<02:11,  5.93it/s]"
     ]
    },
    {
     "name": "stdout",
     "output_type": "stream",
     "text": [
      "[27] loss: 0.435\n",
      "epoch time : 130.68102407455444\n"
     ]
    },
    {
     "name": "stderr",
     "output_type": "stream",
     "text": [
      "100%|██████████| 782/782 [02:10<00:00,  5.99it/s]\n",
      "  0%|          | 1/782 [00:00<02:19,  5.59it/s]"
     ]
    },
    {
     "name": "stdout",
     "output_type": "stream",
     "text": [
      "[28] loss: 0.433\n",
      "epoch time : 130.54670000076294\n"
     ]
    },
    {
     "name": "stderr",
     "output_type": "stream",
     "text": [
      "100%|██████████| 782/782 [02:10<00:00,  6.00it/s]\n",
      "  0%|          | 1/782 [00:00<02:20,  5.57it/s]"
     ]
    },
    {
     "name": "stdout",
     "output_type": "stream",
     "text": [
      "[29] loss: 0.429\n",
      "epoch time : 130.412193775177\n"
     ]
    },
    {
     "name": "stderr",
     "output_type": "stream",
     "text": [
      "100%|██████████| 782/782 [02:10<00:00,  6.00it/s]\n",
      "  0%|          | 1/782 [00:00<02:13,  5.87it/s]"
     ]
    },
    {
     "name": "stdout",
     "output_type": "stream",
     "text": [
      "[30] loss: 0.431\n",
      "epoch time : 130.78275799751282\n"
     ]
    },
    {
     "name": "stderr",
     "output_type": "stream",
     "text": [
      "100%|██████████| 782/782 [02:10<00:00,  5.99it/s]\n",
      "  0%|          | 1/782 [00:00<02:19,  5.60it/s]"
     ]
    },
    {
     "name": "stdout",
     "output_type": "stream",
     "text": [
      "[31] loss: 0.430\n",
      "epoch time : 130.62007784843445\n"
     ]
    },
    {
     "name": "stderr",
     "output_type": "stream",
     "text": [
      "100%|██████████| 782/782 [02:10<00:00,  5.99it/s]\n",
      "  0%|          | 1/782 [00:00<02:18,  5.63it/s]"
     ]
    },
    {
     "name": "stdout",
     "output_type": "stream",
     "text": [
      "[32] loss: 0.425\n",
      "epoch time : 130.59920001029968\n"
     ]
    },
    {
     "name": "stderr",
     "output_type": "stream",
     "text": [
      "100%|██████████| 782/782 [02:10<00:00,  6.00it/s]\n",
      "  0%|          | 1/782 [00:00<02:11,  5.92it/s]"
     ]
    },
    {
     "name": "stdout",
     "output_type": "stream",
     "text": [
      "[33] loss: 0.419\n",
      "epoch time : 130.38634395599365\n"
     ]
    },
    {
     "name": "stderr",
     "output_type": "stream",
     "text": [
      "100%|██████████| 782/782 [02:10<00:00,  6.00it/s]\n",
      "  0%|          | 1/782 [00:00<02:13,  5.86it/s]"
     ]
    },
    {
     "name": "stdout",
     "output_type": "stream",
     "text": [
      "[34] loss: 0.424\n",
      "epoch time : 130.33550596237183\n"
     ]
    },
    {
     "name": "stderr",
     "output_type": "stream",
     "text": [
      "100%|██████████| 782/782 [02:10<00:00,  6.00it/s]\n",
      "  0%|          | 1/782 [00:00<02:19,  5.61it/s]"
     ]
    },
    {
     "name": "stdout",
     "output_type": "stream",
     "text": [
      "[35] loss: 0.427\n",
      "epoch time : 130.3572826385498\n"
     ]
    },
    {
     "name": "stderr",
     "output_type": "stream",
     "text": [
      "100%|██████████| 782/782 [02:10<00:00,  6.00it/s]\n",
      "  0%|          | 1/782 [00:00<02:19,  5.60it/s]"
     ]
    },
    {
     "name": "stdout",
     "output_type": "stream",
     "text": [
      "[36] loss: 0.427\n",
      "epoch time : 130.2747564315796\n"
     ]
    },
    {
     "name": "stderr",
     "output_type": "stream",
     "text": [
      "100%|██████████| 782/782 [02:10<00:00,  5.99it/s]\n",
      "  0%|          | 1/782 [00:00<02:20,  5.54it/s]"
     ]
    },
    {
     "name": "stdout",
     "output_type": "stream",
     "text": [
      "[37] loss: 0.419\n",
      "epoch time : 130.45752620697021\n"
     ]
    },
    {
     "name": "stderr",
     "output_type": "stream",
     "text": [
      "100%|██████████| 782/782 [02:10<00:00,  6.00it/s]\n",
      "  0%|          | 1/782 [00:00<02:18,  5.63it/s]"
     ]
    },
    {
     "name": "stdout",
     "output_type": "stream",
     "text": [
      "[38] loss: 0.423\n",
      "epoch time : 130.36286401748657\n"
     ]
    },
    {
     "name": "stderr",
     "output_type": "stream",
     "text": [
      "100%|██████████| 782/782 [02:10<00:00,  6.00it/s]\n",
      "  0%|          | 1/782 [00:00<02:19,  5.61it/s]"
     ]
    },
    {
     "name": "stdout",
     "output_type": "stream",
     "text": [
      "[39] loss: 0.414\n",
      "epoch time : 130.3681607246399\n"
     ]
    },
    {
     "name": "stderr",
     "output_type": "stream",
     "text": [
      "100%|██████████| 782/782 [02:10<00:00,  6.00it/s]\n",
      "  0%|          | 1/782 [00:00<02:20,  5.55it/s]"
     ]
    },
    {
     "name": "stdout",
     "output_type": "stream",
     "text": [
      "[40] loss: 0.420\n",
      "epoch time : 130.81806635856628\n"
     ]
    },
    {
     "name": "stderr",
     "output_type": "stream",
     "text": [
      "100%|██████████| 782/782 [02:10<00:00,  5.99it/s]\n",
      "  0%|          | 1/782 [00:00<02:11,  5.93it/s]"
     ]
    },
    {
     "name": "stdout",
     "output_type": "stream",
     "text": [
      "[41] loss: 0.415\n",
      "epoch time : 130.4525818824768\n"
     ]
    },
    {
     "name": "stderr",
     "output_type": "stream",
     "text": [
      "100%|██████████| 782/782 [02:10<00:00,  6.00it/s]\n",
      "  0%|          | 1/782 [00:00<02:19,  5.60it/s]"
     ]
    },
    {
     "name": "stdout",
     "output_type": "stream",
     "text": [
      "[42] loss: 0.418\n",
      "epoch time : 130.361558675766\n"
     ]
    },
    {
     "name": "stderr",
     "output_type": "stream",
     "text": [
      "100%|██████████| 782/782 [02:10<00:00,  6.00it/s]\n",
      "  0%|          | 1/782 [00:00<02:19,  5.60it/s]"
     ]
    },
    {
     "name": "stdout",
     "output_type": "stream",
     "text": [
      "[43] loss: 0.421\n",
      "epoch time : 130.3680922985077\n"
     ]
    },
    {
     "name": "stderr",
     "output_type": "stream",
     "text": [
      "100%|██████████| 782/782 [02:10<00:00,  6.00it/s]\n",
      "  0%|          | 1/782 [00:00<02:19,  5.60it/s]"
     ]
    },
    {
     "name": "stdout",
     "output_type": "stream",
     "text": [
      "[44] loss: 0.415\n",
      "epoch time : 130.4067726135254\n"
     ]
    },
    {
     "name": "stderr",
     "output_type": "stream",
     "text": [
      "100%|██████████| 782/782 [02:10<00:00,  5.99it/s]\n",
      "  0%|          | 1/782 [00:00<02:11,  5.92it/s]"
     ]
    },
    {
     "name": "stdout",
     "output_type": "stream",
     "text": [
      "[45] loss: 0.420\n",
      "epoch time : 130.47165489196777\n"
     ]
    },
    {
     "name": "stderr",
     "output_type": "stream",
     "text": [
      "100%|██████████| 782/782 [02:10<00:00,  6.00it/s]\n",
      "  0%|          | 1/782 [00:00<02:19,  5.62it/s]"
     ]
    },
    {
     "name": "stdout",
     "output_type": "stream",
     "text": [
      "[46] loss: 0.411\n",
      "epoch time : 130.40475845336914\n"
     ]
    },
    {
     "name": "stderr",
     "output_type": "stream",
     "text": [
      "100%|██████████| 782/782 [02:10<00:00,  6.00it/s]\n",
      "  0%|          | 1/782 [00:00<02:13,  5.86it/s]"
     ]
    },
    {
     "name": "stdout",
     "output_type": "stream",
     "text": [
      "[47] loss: 0.415\n",
      "epoch time : 130.26320672035217\n"
     ]
    },
    {
     "name": "stderr",
     "output_type": "stream",
     "text": [
      "100%|██████████| 782/782 [02:10<00:00,  6.00it/s]\n",
      "  0%|          | 1/782 [00:00<02:11,  5.94it/s]"
     ]
    },
    {
     "name": "stdout",
     "output_type": "stream",
     "text": [
      "[48] loss: 0.419\n",
      "epoch time : 130.3333420753479\n"
     ]
    },
    {
     "name": "stderr",
     "output_type": "stream",
     "text": [
      "100%|██████████| 782/782 [02:10<00:00,  6.01it/s]\n",
      "  0%|          | 1/782 [00:00<02:12,  5.91it/s]"
     ]
    },
    {
     "name": "stdout",
     "output_type": "stream",
     "text": [
      "[49] loss: 0.413\n",
      "epoch time : 130.21171927452087\n"
     ]
    },
    {
     "name": "stderr",
     "output_type": "stream",
     "text": [
      "100%|██████████| 782/782 [02:10<00:00,  6.00it/s]\n",
      "  0%|          | 1/782 [00:00<02:21,  5.53it/s]"
     ]
    },
    {
     "name": "stdout",
     "output_type": "stream",
     "text": [
      "[50] loss: 0.410\n",
      "epoch time : 130.79266810417175\n"
     ]
    },
    {
     "name": "stderr",
     "output_type": "stream",
     "text": [
      "100%|██████████| 782/782 [02:10<00:00,  6.00it/s]\n",
      "  0%|          | 1/782 [00:00<02:19,  5.60it/s]"
     ]
    },
    {
     "name": "stdout",
     "output_type": "stream",
     "text": [
      "[51] loss: 0.417\n",
      "epoch time : 130.27269768714905\n"
     ]
    },
    {
     "name": "stderr",
     "output_type": "stream",
     "text": [
      "100%|██████████| 782/782 [02:10<00:00,  6.01it/s]\n",
      "  0%|          | 1/782 [00:00<02:19,  5.60it/s]"
     ]
    },
    {
     "name": "stdout",
     "output_type": "stream",
     "text": [
      "[52] loss: 0.416\n",
      "epoch time : 130.2236692905426\n"
     ]
    },
    {
     "name": "stderr",
     "output_type": "stream",
     "text": [
      "100%|██████████| 782/782 [02:10<00:00,  6.00it/s]\n",
      "  0%|          | 1/782 [00:00<02:18,  5.63it/s]"
     ]
    },
    {
     "name": "stdout",
     "output_type": "stream",
     "text": [
      "[53] loss: 0.408\n",
      "epoch time : 130.24821734428406\n"
     ]
    },
    {
     "name": "stderr",
     "output_type": "stream",
     "text": [
      "100%|██████████| 782/782 [02:10<00:00,  6.01it/s]\n",
      "  0%|          | 1/782 [00:00<02:19,  5.60it/s]"
     ]
    },
    {
     "name": "stdout",
     "output_type": "stream",
     "text": [
      "[54] loss: 0.413\n",
      "epoch time : 130.2014033794403\n"
     ]
    },
    {
     "name": "stderr",
     "output_type": "stream",
     "text": [
      "100%|██████████| 782/782 [02:10<00:00,  6.00it/s]\n",
      "  0%|          | 1/782 [00:00<02:19,  5.61it/s]"
     ]
    },
    {
     "name": "stdout",
     "output_type": "stream",
     "text": [
      "[55] loss: 0.414\n",
      "epoch time : 130.24029183387756\n"
     ]
    },
    {
     "name": "stderr",
     "output_type": "stream",
     "text": [
      "100%|██████████| 782/782 [02:10<00:00,  6.01it/s]\n",
      "  0%|          | 1/782 [00:00<02:12,  5.88it/s]"
     ]
    },
    {
     "name": "stdout",
     "output_type": "stream",
     "text": [
      "[56] loss: 0.408\n",
      "epoch time : 130.1266975402832\n"
     ]
    },
    {
     "name": "stderr",
     "output_type": "stream",
     "text": [
      "100%|██████████| 782/782 [02:10<00:00,  6.01it/s]\n",
      "  0%|          | 1/782 [00:00<02:19,  5.61it/s]"
     ]
    },
    {
     "name": "stdout",
     "output_type": "stream",
     "text": [
      "[57] loss: 0.410\n",
      "epoch time : 130.22144269943237\n"
     ]
    },
    {
     "name": "stderr",
     "output_type": "stream",
     "text": [
      "100%|██████████| 782/782 [02:10<00:00,  6.01it/s]\n",
      "  0%|          | 1/782 [00:00<02:13,  5.83it/s]"
     ]
    },
    {
     "name": "stdout",
     "output_type": "stream",
     "text": [
      "[58] loss: 0.414\n",
      "epoch time : 130.13007521629333\n"
     ]
    },
    {
     "name": "stderr",
     "output_type": "stream",
     "text": [
      "100%|██████████| 782/782 [02:10<00:00,  6.01it/s]\n",
      "  0%|          | 1/782 [00:00<02:12,  5.90it/s]"
     ]
    },
    {
     "name": "stdout",
     "output_type": "stream",
     "text": [
      "[59] loss: 0.412\n",
      "epoch time : 130.12125754356384\n"
     ]
    },
    {
     "name": "stderr",
     "output_type": "stream",
     "text": [
      "100%|██████████| 782/782 [02:10<00:00,  6.01it/s]\n",
      "  0%|          | 1/782 [00:00<02:22,  5.48it/s]"
     ]
    },
    {
     "name": "stdout",
     "output_type": "stream",
     "text": [
      "[60] loss: 0.419\n",
      "epoch time : 130.5483181476593\n"
     ]
    },
    {
     "name": "stderr",
     "output_type": "stream",
     "text": [
      "100%|██████████| 782/782 [02:10<00:00,  6.01it/s]\n",
      "  0%|          | 1/782 [00:00<02:13,  5.85it/s]"
     ]
    },
    {
     "name": "stdout",
     "output_type": "stream",
     "text": [
      "[61] loss: 0.408\n",
      "epoch time : 130.12691164016724\n"
     ]
    },
    {
     "name": "stderr",
     "output_type": "stream",
     "text": [
      "100%|██████████| 782/782 [02:10<00:00,  6.01it/s]\n",
      "  0%|          | 1/782 [00:00<02:11,  5.93it/s]"
     ]
    },
    {
     "name": "stdout",
     "output_type": "stream",
     "text": [
      "[62] loss: 0.408\n",
      "epoch time : 130.08727264404297\n"
     ]
    },
    {
     "name": "stderr",
     "output_type": "stream",
     "text": [
      "100%|██████████| 782/782 [02:10<00:00,  6.00it/s]\n",
      "  0%|          | 1/782 [00:00<02:12,  5.89it/s]"
     ]
    },
    {
     "name": "stdout",
     "output_type": "stream",
     "text": [
      "[63] loss: 0.418\n",
      "epoch time : 130.2575023174286\n"
     ]
    },
    {
     "name": "stderr",
     "output_type": "stream",
     "text": [
      "100%|██████████| 782/782 [02:10<00:00,  6.00it/s]\n",
      "  0%|          | 1/782 [00:00<02:11,  5.92it/s]"
     ]
    },
    {
     "name": "stdout",
     "output_type": "stream",
     "text": [
      "[64] loss: 0.407\n",
      "epoch time : 130.2608060836792\n"
     ]
    },
    {
     "name": "stderr",
     "output_type": "stream",
     "text": [
      "100%|██████████| 782/782 [02:10<00:00,  6.01it/s]\n",
      "  0%|          | 1/782 [00:00<02:10,  5.96it/s]"
     ]
    },
    {
     "name": "stdout",
     "output_type": "stream",
     "text": [
      "[65] loss: 0.412\n",
      "epoch time : 130.02292037010193\n"
     ]
    },
    {
     "name": "stderr",
     "output_type": "stream",
     "text": [
      "100%|██████████| 782/782 [02:09<00:00,  6.02it/s]\n",
      "  0%|          | 1/782 [00:00<02:12,  5.88it/s]"
     ]
    },
    {
     "name": "stdout",
     "output_type": "stream",
     "text": [
      "[66] loss: 0.409\n",
      "epoch time : 129.98789620399475\n"
     ]
    },
    {
     "name": "stderr",
     "output_type": "stream",
     "text": [
      "100%|██████████| 782/782 [02:10<00:00,  6.01it/s]\n",
      "  0%|          | 1/782 [00:00<02:19,  5.61it/s]"
     ]
    },
    {
     "name": "stdout",
     "output_type": "stream",
     "text": [
      "[67] loss: 0.412\n",
      "epoch time : 130.1462264060974\n"
     ]
    },
    {
     "name": "stderr",
     "output_type": "stream",
     "text": [
      "100%|██████████| 782/782 [02:10<00:00,  6.01it/s]\n",
      "  0%|          | 1/782 [00:00<02:13,  5.86it/s]"
     ]
    },
    {
     "name": "stdout",
     "output_type": "stream",
     "text": [
      "[68] loss: 0.409\n",
      "epoch time : 130.05547451972961\n"
     ]
    },
    {
     "name": "stderr",
     "output_type": "stream",
     "text": [
      "100%|██████████| 782/782 [02:10<00:00,  6.01it/s]\n",
      "  0%|          | 1/782 [00:00<02:12,  5.88it/s]"
     ]
    },
    {
     "name": "stdout",
     "output_type": "stream",
     "text": [
      "[69] loss: 0.410\n",
      "epoch time : 130.09445714950562\n"
     ]
    },
    {
     "name": "stderr",
     "output_type": "stream",
     "text": [
      "100%|██████████| 782/782 [02:10<00:00,  6.01it/s]\n",
      "  0%|          | 1/782 [00:00<02:13,  5.86it/s]"
     ]
    },
    {
     "name": "stdout",
     "output_type": "stream",
     "text": [
      "[70] loss: 0.407\n",
      "epoch time : 130.4233820438385\n"
     ]
    },
    {
     "name": "stderr",
     "output_type": "stream",
     "text": [
      "100%|██████████| 782/782 [02:10<00:00,  6.01it/s]\n",
      "  0%|          | 1/782 [00:00<02:19,  5.61it/s]"
     ]
    },
    {
     "name": "stdout",
     "output_type": "stream",
     "text": [
      "[71] loss: 0.413\n",
      "epoch time : 130.01769185066223\n"
     ]
    },
    {
     "name": "stderr",
     "output_type": "stream",
     "text": [
      "100%|██████████| 782/782 [02:09<00:00,  6.02it/s]\n",
      "  0%|          | 1/782 [00:00<02:13,  5.83it/s]"
     ]
    },
    {
     "name": "stdout",
     "output_type": "stream",
     "text": [
      "[72] loss: 0.410\n",
      "epoch time : 129.91330909729004\n"
     ]
    },
    {
     "name": "stderr",
     "output_type": "stream",
     "text": [
      "100%|██████████| 782/782 [02:09<00:00,  6.02it/s]\n",
      "  0%|          | 1/782 [00:00<02:13,  5.86it/s]"
     ]
    },
    {
     "name": "stdout",
     "output_type": "stream",
     "text": [
      "[73] loss: 0.408\n",
      "epoch time : 129.95130252838135\n"
     ]
    },
    {
     "name": "stderr",
     "output_type": "stream",
     "text": [
      "100%|██████████| 782/782 [02:10<00:00,  6.01it/s]\n",
      "  0%|          | 1/782 [00:00<02:18,  5.65it/s]"
     ]
    },
    {
     "name": "stdout",
     "output_type": "stream",
     "text": [
      "[74] loss: 0.404\n",
      "epoch time : 130.0152440071106\n"
     ]
    },
    {
     "name": "stderr",
     "output_type": "stream",
     "text": [
      "100%|██████████| 782/782 [02:09<00:00,  6.02it/s]\n",
      "  0%|          | 1/782 [00:00<02:17,  5.69it/s]"
     ]
    },
    {
     "name": "stdout",
     "output_type": "stream",
     "text": [
      "[75] loss: 0.404\n",
      "epoch time : 129.93034482002258\n"
     ]
    },
    {
     "name": "stderr",
     "output_type": "stream",
     "text": [
      "100%|██████████| 782/782 [02:09<00:00,  6.02it/s]\n",
      "  0%|          | 1/782 [00:00<02:11,  5.94it/s]"
     ]
    },
    {
     "name": "stdout",
     "output_type": "stream",
     "text": [
      "[76] loss: 0.412\n",
      "epoch time : 129.90801882743835\n"
     ]
    },
    {
     "name": "stderr",
     "output_type": "stream",
     "text": [
      "100%|██████████| 782/782 [02:10<00:00,  6.01it/s]\n",
      "  0%|          | 1/782 [00:00<02:12,  5.90it/s]"
     ]
    },
    {
     "name": "stdout",
     "output_type": "stream",
     "text": [
      "[77] loss: 0.408\n",
      "epoch time : 130.05274033546448\n"
     ]
    },
    {
     "name": "stderr",
     "output_type": "stream",
     "text": [
      "100%|██████████| 782/782 [02:09<00:00,  6.02it/s]\n",
      "  0%|          | 1/782 [00:00<02:18,  5.62it/s]"
     ]
    },
    {
     "name": "stdout",
     "output_type": "stream",
     "text": [
      "[78] loss: 0.406\n",
      "epoch time : 129.8506109714508\n"
     ]
    },
    {
     "name": "stderr",
     "output_type": "stream",
     "text": [
      "100%|██████████| 782/782 [02:10<00:00,  6.01it/s]\n",
      "  0%|          | 1/782 [00:00<02:18,  5.63it/s]"
     ]
    },
    {
     "name": "stdout",
     "output_type": "stream",
     "text": [
      "[79] loss: 0.411\n",
      "epoch time : 130.05370092391968\n"
     ]
    },
    {
     "name": "stderr",
     "output_type": "stream",
     "text": [
      "100%|██████████| 782/782 [02:09<00:00,  6.02it/s]\n",
      "  0%|          | 1/782 [00:00<02:19,  5.61it/s]"
     ]
    },
    {
     "name": "stdout",
     "output_type": "stream",
     "text": [
      "[80] loss: 0.407\n",
      "epoch time : 130.31133127212524\n"
     ]
    },
    {
     "name": "stderr",
     "output_type": "stream",
     "text": [
      "100%|██████████| 782/782 [02:09<00:00,  6.03it/s]\n",
      "  0%|          | 1/782 [00:00<02:11,  5.95it/s]"
     ]
    },
    {
     "name": "stdout",
     "output_type": "stream",
     "text": [
      "[81] loss: 0.410\n",
      "epoch time : 129.74774885177612\n"
     ]
    },
    {
     "name": "stderr",
     "output_type": "stream",
     "text": [
      "100%|██████████| 782/782 [02:09<00:00,  6.03it/s]\n",
      "  0%|          | 1/782 [00:00<02:18,  5.62it/s]"
     ]
    },
    {
     "name": "stdout",
     "output_type": "stream",
     "text": [
      "[82] loss: 0.405\n",
      "epoch time : 129.7476692199707\n"
     ]
    },
    {
     "name": "stderr",
     "output_type": "stream",
     "text": [
      "100%|██████████| 782/782 [02:09<00:00,  6.02it/s]\n",
      "  0%|          | 1/782 [00:00<02:18,  5.64it/s]"
     ]
    },
    {
     "name": "stdout",
     "output_type": "stream",
     "text": [
      "[83] loss: 0.413\n",
      "epoch time : 129.86369061470032\n"
     ]
    },
    {
     "name": "stderr",
     "output_type": "stream",
     "text": [
      "100%|██████████| 782/782 [02:09<00:00,  6.02it/s]\n",
      "  0%|          | 1/782 [00:00<02:18,  5.62it/s]"
     ]
    },
    {
     "name": "stdout",
     "output_type": "stream",
     "text": [
      "[84] loss: 0.410\n",
      "epoch time : 129.9399561882019\n"
     ]
    },
    {
     "name": "stderr",
     "output_type": "stream",
     "text": [
      "100%|██████████| 782/782 [02:09<00:00,  6.02it/s]\n",
      "  0%|          | 1/782 [00:00<02:11,  5.95it/s]"
     ]
    },
    {
     "name": "stdout",
     "output_type": "stream",
     "text": [
      "[85] loss: 0.421\n",
      "epoch time : 129.8613715171814\n"
     ]
    },
    {
     "name": "stderr",
     "output_type": "stream",
     "text": [
      "100%|██████████| 782/782 [02:09<00:00,  6.02it/s]\n",
      "  0%|          | 1/782 [00:00<02:12,  5.90it/s]"
     ]
    },
    {
     "name": "stdout",
     "output_type": "stream",
     "text": [
      "[86] loss: 0.406\n",
      "epoch time : 129.86289715766907\n"
     ]
    },
    {
     "name": "stderr",
     "output_type": "stream",
     "text": [
      "100%|██████████| 782/782 [02:09<00:00,  6.02it/s]\n",
      "  0%|          | 1/782 [00:00<02:13,  5.83it/s]"
     ]
    },
    {
     "name": "stdout",
     "output_type": "stream",
     "text": [
      "[87] loss: 0.412\n",
      "epoch time : 129.82670068740845\n"
     ]
    },
    {
     "name": "stderr",
     "output_type": "stream",
     "text": [
      "100%|██████████| 782/782 [02:09<00:00,  6.03it/s]\n",
      "  0%|          | 1/782 [00:00<02:19,  5.62it/s]"
     ]
    },
    {
     "name": "stdout",
     "output_type": "stream",
     "text": [
      "[88] loss: 0.412\n",
      "epoch time : 129.79138612747192\n"
     ]
    },
    {
     "name": "stderr",
     "output_type": "stream",
     "text": [
      "100%|██████████| 782/782 [02:09<00:00,  6.02it/s]\n",
      "  0%|          | 1/782 [00:00<02:11,  5.92it/s]"
     ]
    },
    {
     "name": "stdout",
     "output_type": "stream",
     "text": [
      "[89] loss: 0.411\n",
      "epoch time : 129.80059218406677\n"
     ]
    },
    {
     "name": "stderr",
     "output_type": "stream",
     "text": [
      "100%|██████████| 782/782 [02:09<00:00,  6.03it/s]\n",
      "  0%|          | 1/782 [00:00<02:21,  5.53it/s]"
     ]
    },
    {
     "name": "stdout",
     "output_type": "stream",
     "text": [
      "[90] loss: 0.413\n",
      "epoch time : 130.13525390625\n"
     ]
    },
    {
     "name": "stderr",
     "output_type": "stream",
     "text": [
      "100%|██████████| 782/782 [02:09<00:00,  6.02it/s]\n",
      "  0%|          | 1/782 [00:00<02:19,  5.61it/s]"
     ]
    },
    {
     "name": "stdout",
     "output_type": "stream",
     "text": [
      "[91] loss: 0.413\n",
      "epoch time : 129.9395272731781\n"
     ]
    },
    {
     "name": "stderr",
     "output_type": "stream",
     "text": [
      "100%|██████████| 782/782 [02:09<00:00,  6.02it/s]\n",
      "  0%|          | 1/782 [00:00<02:10,  5.98it/s]"
     ]
    },
    {
     "name": "stdout",
     "output_type": "stream",
     "text": [
      "[92] loss: 0.412\n",
      "epoch time : 129.80381059646606\n"
     ]
    },
    {
     "name": "stderr",
     "output_type": "stream",
     "text": [
      "100%|██████████| 782/782 [02:09<00:00,  6.03it/s]\n",
      "  0%|          | 1/782 [00:00<02:19,  5.61it/s]"
     ]
    },
    {
     "name": "stdout",
     "output_type": "stream",
     "text": [
      "[93] loss: 0.407\n",
      "epoch time : 129.79220151901245\n"
     ]
    },
    {
     "name": "stderr",
     "output_type": "stream",
     "text": [
      "100%|██████████| 782/782 [02:09<00:00,  6.02it/s]\n",
      "  0%|          | 1/782 [00:00<02:19,  5.61it/s]"
     ]
    },
    {
     "name": "stdout",
     "output_type": "stream",
     "text": [
      "[94] loss: 0.412\n",
      "epoch time : 129.79550457000732\n"
     ]
    },
    {
     "name": "stderr",
     "output_type": "stream",
     "text": [
      "100%|██████████| 782/782 [02:09<00:00,  6.03it/s]\n",
      "  0%|          | 1/782 [00:00<02:18,  5.64it/s]"
     ]
    },
    {
     "name": "stdout",
     "output_type": "stream",
     "text": [
      "[95] loss: 0.414\n",
      "epoch time : 129.7023696899414\n"
     ]
    },
    {
     "name": "stderr",
     "output_type": "stream",
     "text": [
      "100%|██████████| 782/782 [02:09<00:00,  6.03it/s]\n",
      "  0%|          | 1/782 [00:00<02:18,  5.63it/s]"
     ]
    },
    {
     "name": "stdout",
     "output_type": "stream",
     "text": [
      "[96] loss: 0.411\n",
      "epoch time : 129.6822657585144\n"
     ]
    },
    {
     "name": "stderr",
     "output_type": "stream",
     "text": [
      "100%|██████████| 782/782 [02:09<00:00,  6.02it/s]\n",
      "  0%|          | 1/782 [00:00<02:11,  5.95it/s]"
     ]
    },
    {
     "name": "stdout",
     "output_type": "stream",
     "text": [
      "[97] loss: 0.414\n",
      "epoch time : 129.8730022907257\n"
     ]
    },
    {
     "name": "stderr",
     "output_type": "stream",
     "text": [
      "100%|██████████| 782/782 [02:09<00:00,  6.03it/s]\n",
      "  0%|          | 1/782 [00:00<02:18,  5.63it/s]"
     ]
    },
    {
     "name": "stdout",
     "output_type": "stream",
     "text": [
      "[98] loss: 0.406\n",
      "epoch time : 129.71267771720886\n"
     ]
    },
    {
     "name": "stderr",
     "output_type": "stream",
     "text": [
      "100%|██████████| 782/782 [02:09<00:00,  6.03it/s]\n",
      "  0%|          | 1/782 [00:00<02:18,  5.63it/s]"
     ]
    },
    {
     "name": "stdout",
     "output_type": "stream",
     "text": [
      "[99] loss: 0.415\n",
      "epoch time : 129.7211513519287\n"
     ]
    },
    {
     "name": "stderr",
     "output_type": "stream",
     "text": [
      "100%|██████████| 782/782 [02:09<00:00,  6.03it/s]\n",
      "  0%|          | 1/782 [00:00<02:21,  5.50it/s]"
     ]
    },
    {
     "name": "stdout",
     "output_type": "stream",
     "text": [
      "[100] loss: 0.414\n",
      "epoch time : 130.11956000328064\n"
     ]
    },
    {
     "name": "stderr",
     "output_type": "stream",
     "text": [
      "100%|██████████| 782/782 [02:09<00:00,  6.02it/s]\n",
      "  0%|          | 1/782 [00:00<02:13,  5.84it/s]"
     ]
    },
    {
     "name": "stdout",
     "output_type": "stream",
     "text": [
      "[101] loss: 0.409\n",
      "epoch time : 129.84967875480652\n"
     ]
    },
    {
     "name": "stderr",
     "output_type": "stream",
     "text": [
      "100%|██████████| 782/782 [02:09<00:00,  6.03it/s]\n",
      "  0%|          | 1/782 [00:00<02:12,  5.88it/s]"
     ]
    },
    {
     "name": "stdout",
     "output_type": "stream",
     "text": [
      "[102] loss: 0.416\n",
      "epoch time : 129.58141994476318\n"
     ]
    },
    {
     "name": "stderr",
     "output_type": "stream",
     "text": [
      "100%|██████████| 782/782 [02:09<00:00,  6.02it/s]\n",
      "  0%|          | 1/782 [00:00<02:11,  5.94it/s]"
     ]
    },
    {
     "name": "stdout",
     "output_type": "stream",
     "text": [
      "[103] loss: 0.419\n",
      "epoch time : 129.7962737083435\n"
     ]
    },
    {
     "name": "stderr",
     "output_type": "stream",
     "text": [
      "100%|██████████| 782/782 [02:09<00:00,  6.03it/s]\n",
      "  0%|          | 1/782 [00:00<02:18,  5.63it/s]"
     ]
    },
    {
     "name": "stdout",
     "output_type": "stream",
     "text": [
      "[104] loss: 0.410\n",
      "epoch time : 129.6862485408783\n"
     ]
    },
    {
     "name": "stderr",
     "output_type": "stream",
     "text": [
      "100%|██████████| 782/782 [02:09<00:00,  6.03it/s]\n",
      "  0%|          | 1/782 [00:00<02:11,  5.96it/s]"
     ]
    },
    {
     "name": "stdout",
     "output_type": "stream",
     "text": [
      "[105] loss: 0.412\n",
      "epoch time : 129.72743773460388\n"
     ]
    },
    {
     "name": "stderr",
     "output_type": "stream",
     "text": [
      "100%|██████████| 782/782 [02:09<00:00,  6.03it/s]\n",
      "  0%|          | 1/782 [00:00<02:11,  5.93it/s]"
     ]
    },
    {
     "name": "stdout",
     "output_type": "stream",
     "text": [
      "[106] loss: 0.413\n",
      "epoch time : 129.70007967948914\n"
     ]
    },
    {
     "name": "stderr",
     "output_type": "stream",
     "text": [
      "100%|██████████| 782/782 [02:09<00:00,  6.03it/s]\n",
      "  0%|          | 1/782 [00:00<02:12,  5.92it/s]"
     ]
    },
    {
     "name": "stdout",
     "output_type": "stream",
     "text": [
      "[107] loss: 0.414\n",
      "epoch time : 129.57879400253296\n"
     ]
    },
    {
     "name": "stderr",
     "output_type": "stream",
     "text": [
      "100%|██████████| 782/782 [02:09<00:00,  6.03it/s]\n",
      "  0%|          | 1/782 [00:00<02:18,  5.62it/s]"
     ]
    },
    {
     "name": "stdout",
     "output_type": "stream",
     "text": [
      "[108] loss: 0.419\n",
      "epoch time : 129.70346331596375\n"
     ]
    },
    {
     "name": "stderr",
     "output_type": "stream",
     "text": [
      "100%|██████████| 782/782 [02:09<00:00,  6.03it/s]\n",
      "  0%|          | 1/782 [00:00<02:10,  5.98it/s]"
     ]
    },
    {
     "name": "stdout",
     "output_type": "stream",
     "text": [
      "[109] loss: 0.413\n",
      "epoch time : 129.6880326271057\n"
     ]
    },
    {
     "name": "stderr",
     "output_type": "stream",
     "text": [
      "100%|██████████| 782/782 [02:09<00:00,  6.04it/s]\n",
      "  0%|          | 1/782 [00:00<02:10,  5.96it/s]"
     ]
    },
    {
     "name": "stdout",
     "output_type": "stream",
     "text": [
      "[110] loss: 0.415\n",
      "epoch time : 129.94521522521973\n"
     ]
    },
    {
     "name": "stderr",
     "output_type": "stream",
     "text": [
      "100%|██████████| 782/782 [02:09<00:00,  6.04it/s]\n",
      "  0%|          | 1/782 [00:00<02:11,  5.94it/s]"
     ]
    },
    {
     "name": "stdout",
     "output_type": "stream",
     "text": [
      "[111] loss: 0.418\n",
      "epoch time : 129.5323498249054\n"
     ]
    },
    {
     "name": "stderr",
     "output_type": "stream",
     "text": [
      "100%|██████████| 782/782 [02:09<00:00,  6.03it/s]\n",
      "  0%|          | 1/782 [00:00<02:18,  5.64it/s]"
     ]
    },
    {
     "name": "stdout",
     "output_type": "stream",
     "text": [
      "[112] loss: 0.412\n",
      "epoch time : 129.69843935966492\n"
     ]
    },
    {
     "name": "stderr",
     "output_type": "stream",
     "text": [
      "100%|██████████| 782/782 [02:09<00:00,  6.04it/s]\n",
      "  0%|          | 1/782 [00:00<02:18,  5.63it/s]"
     ]
    },
    {
     "name": "stdout",
     "output_type": "stream",
     "text": [
      "[113] loss: 0.422\n",
      "epoch time : 129.56858134269714\n"
     ]
    },
    {
     "name": "stderr",
     "output_type": "stream",
     "text": [
      "100%|██████████| 782/782 [02:09<00:00,  6.02it/s]\n",
      "  0%|          | 1/782 [00:00<02:18,  5.63it/s]"
     ]
    },
    {
     "name": "stdout",
     "output_type": "stream",
     "text": [
      "[114] loss: 0.417\n",
      "epoch time : 129.85024333000183\n"
     ]
    },
    {
     "name": "stderr",
     "output_type": "stream",
     "text": [
      "100%|██████████| 782/782 [02:09<00:00,  6.03it/s]\n",
      "  0%|          | 1/782 [00:00<02:18,  5.62it/s]"
     ]
    },
    {
     "name": "stdout",
     "output_type": "stream",
     "text": [
      "[115] loss: 0.414\n",
      "epoch time : 129.66054844856262\n"
     ]
    },
    {
     "name": "stderr",
     "output_type": "stream",
     "text": [
      "100%|██████████| 782/782 [02:09<00:00,  6.04it/s]\n",
      "  0%|          | 1/782 [00:00<02:17,  5.68it/s]"
     ]
    },
    {
     "name": "stdout",
     "output_type": "stream",
     "text": [
      "[116] loss: 0.411\n",
      "epoch time : 129.54146099090576\n"
     ]
    },
    {
     "name": "stderr",
     "output_type": "stream",
     "text": [
      "100%|██████████| 782/782 [02:09<00:00,  6.03it/s]\n",
      "  0%|          | 1/782 [00:00<02:18,  5.62it/s]"
     ]
    },
    {
     "name": "stdout",
     "output_type": "stream",
     "text": [
      "[117] loss: 0.420\n",
      "epoch time : 129.6348171234131\n"
     ]
    },
    {
     "name": "stderr",
     "output_type": "stream",
     "text": [
      "100%|██████████| 782/782 [02:09<00:00,  6.03it/s]\n",
      "  0%|          | 1/782 [00:00<02:18,  5.64it/s]"
     ]
    },
    {
     "name": "stdout",
     "output_type": "stream",
     "text": [
      "[118] loss: 0.418\n",
      "epoch time : 129.72211265563965\n"
     ]
    },
    {
     "name": "stderr",
     "output_type": "stream",
     "text": [
      "100%|██████████| 782/782 [02:09<00:00,  6.03it/s]\n",
      "  0%|          | 1/782 [00:00<02:17,  5.69it/s]"
     ]
    },
    {
     "name": "stdout",
     "output_type": "stream",
     "text": [
      "[119] loss: 0.412\n",
      "epoch time : 129.5948042869568\n"
     ]
    },
    {
     "name": "stderr",
     "output_type": "stream",
     "text": [
      "100%|██████████| 782/782 [02:09<00:00,  6.04it/s]\n",
      "  0%|          | 1/782 [00:00<02:21,  5.51it/s]"
     ]
    },
    {
     "name": "stdout",
     "output_type": "stream",
     "text": [
      "[120] loss: 0.421\n",
      "epoch time : 129.88338708877563\n"
     ]
    },
    {
     "name": "stderr",
     "output_type": "stream",
     "text": [
      "100%|██████████| 782/782 [02:09<00:00,  6.04it/s]\n",
      "  0%|          | 1/782 [00:00<02:18,  5.63it/s]"
     ]
    },
    {
     "name": "stdout",
     "output_type": "stream",
     "text": [
      "[121] loss: 0.415\n",
      "epoch time : 129.57303476333618\n"
     ]
    },
    {
     "name": "stderr",
     "output_type": "stream",
     "text": [
      "100%|██████████| 782/782 [02:09<00:00,  6.04it/s]\n",
      "  0%|          | 1/782 [00:00<02:18,  5.64it/s]"
     ]
    },
    {
     "name": "stdout",
     "output_type": "stream",
     "text": [
      "[122] loss: 0.418\n",
      "epoch time : 129.3984010219574\n"
     ]
    },
    {
     "name": "stderr",
     "output_type": "stream",
     "text": [
      "100%|██████████| 782/782 [02:09<00:00,  6.04it/s]\n",
      "  0%|          | 1/782 [00:00<02:16,  5.74it/s]"
     ]
    },
    {
     "name": "stdout",
     "output_type": "stream",
     "text": [
      "[123] loss: 0.423\n",
      "epoch time : 129.51023364067078\n"
     ]
    },
    {
     "name": "stderr",
     "output_type": "stream",
     "text": [
      "100%|██████████| 782/782 [02:09<00:00,  6.05it/s]\n",
      "  0%|          | 1/782 [00:00<02:19,  5.62it/s]"
     ]
    },
    {
     "name": "stdout",
     "output_type": "stream",
     "text": [
      "[124] loss: 0.419\n",
      "epoch time : 129.32921242713928\n"
     ]
    },
    {
     "name": "stderr",
     "output_type": "stream",
     "text": [
      "100%|██████████| 782/782 [02:09<00:00,  6.04it/s]\n",
      "  0%|          | 1/782 [00:00<02:18,  5.65it/s]"
     ]
    },
    {
     "name": "stdout",
     "output_type": "stream",
     "text": [
      "[125] loss: 0.419\n",
      "epoch time : 129.4569125175476\n"
     ]
    },
    {
     "name": "stderr",
     "output_type": "stream",
     "text": [
      "100%|██████████| 782/782 [02:09<00:00,  6.05it/s]\n",
      "  0%|          | 1/782 [00:00<02:11,  5.95it/s]"
     ]
    },
    {
     "name": "stdout",
     "output_type": "stream",
     "text": [
      "[126] loss: 0.418\n",
      "epoch time : 129.2925386428833\n"
     ]
    },
    {
     "name": "stderr",
     "output_type": "stream",
     "text": [
      "100%|██████████| 782/782 [02:09<00:00,  6.05it/s]\n",
      "  0%|          | 1/782 [00:00<02:13,  5.85it/s]"
     ]
    },
    {
     "name": "stdout",
     "output_type": "stream",
     "text": [
      "[127] loss: 0.422\n",
      "epoch time : 129.2566900253296\n"
     ]
    },
    {
     "name": "stderr",
     "output_type": "stream",
     "text": [
      "100%|██████████| 782/782 [02:09<00:00,  6.05it/s]\n",
      "  0%|          | 1/782 [00:00<02:10,  5.99it/s]"
     ]
    },
    {
     "name": "stdout",
     "output_type": "stream",
     "text": [
      "[128] loss: 0.418\n",
      "epoch time : 129.24303007125854\n"
     ]
    },
    {
     "name": "stderr",
     "output_type": "stream",
     "text": [
      "100%|██████████| 782/782 [02:09<00:00,  6.05it/s]\n",
      "  0%|          | 1/782 [00:00<02:11,  5.95it/s]"
     ]
    },
    {
     "name": "stdout",
     "output_type": "stream",
     "text": [
      "[129] loss: 0.417\n",
      "epoch time : 129.3400857448578\n"
     ]
    },
    {
     "name": "stderr",
     "output_type": "stream",
     "text": [
      "100%|██████████| 782/782 [02:09<00:00,  6.05it/s]\n",
      "  0%|          | 1/782 [00:00<02:22,  5.49it/s]"
     ]
    },
    {
     "name": "stdout",
     "output_type": "stream",
     "text": [
      "[130] loss: 0.428\n",
      "epoch time : 129.684184551239\n"
     ]
    },
    {
     "name": "stderr",
     "output_type": "stream",
     "text": [
      "100%|██████████| 782/782 [02:09<00:00,  6.04it/s]\n",
      "  0%|          | 1/782 [00:00<02:12,  5.89it/s]"
     ]
    },
    {
     "name": "stdout",
     "output_type": "stream",
     "text": [
      "[131] loss: 0.415\n",
      "epoch time : 129.41614747047424\n"
     ]
    },
    {
     "name": "stderr",
     "output_type": "stream",
     "text": [
      "100%|██████████| 782/782 [02:09<00:00,  6.05it/s]\n",
      "  0%|          | 1/782 [00:00<02:17,  5.66it/s]"
     ]
    },
    {
     "name": "stdout",
     "output_type": "stream",
     "text": [
      "[132] loss: 0.424\n",
      "epoch time : 129.25501084327698\n"
     ]
    },
    {
     "name": "stderr",
     "output_type": "stream",
     "text": [
      "100%|██████████| 782/782 [02:09<00:00,  6.04it/s]\n",
      "  0%|          | 1/782 [00:00<02:18,  5.63it/s]"
     ]
    },
    {
     "name": "stdout",
     "output_type": "stream",
     "text": [
      "[133] loss: 0.426\n",
      "epoch time : 129.37710309028625\n"
     ]
    },
    {
     "name": "stderr",
     "output_type": "stream",
     "text": [
      "100%|██████████| 782/782 [02:09<00:00,  6.05it/s]\n",
      "  0%|          | 1/782 [00:00<02:18,  5.63it/s]"
     ]
    },
    {
     "name": "stdout",
     "output_type": "stream",
     "text": [
      "[134] loss: 0.414\n",
      "epoch time : 129.2116949558258\n"
     ]
    },
    {
     "name": "stderr",
     "output_type": "stream",
     "text": [
      "100%|██████████| 782/782 [02:09<00:00,  6.04it/s]\n",
      "  0%|          | 1/782 [00:00<02:18,  5.64it/s]"
     ]
    },
    {
     "name": "stdout",
     "output_type": "stream",
     "text": [
      "[135] loss: 0.426\n",
      "epoch time : 129.4071135520935\n"
     ]
    },
    {
     "name": "stderr",
     "output_type": "stream",
     "text": [
      "100%|██████████| 782/782 [02:09<00:00,  6.05it/s]\n",
      "  0%|          | 1/782 [00:00<02:10,  5.99it/s]"
     ]
    },
    {
     "name": "stdout",
     "output_type": "stream",
     "text": [
      "[136] loss: 0.419\n",
      "epoch time : 129.23099184036255\n"
     ]
    },
    {
     "name": "stderr",
     "output_type": "stream",
     "text": [
      "100%|██████████| 782/782 [02:09<00:00,  6.05it/s]\n",
      "  0%|          | 1/782 [00:00<02:11,  5.93it/s]"
     ]
    },
    {
     "name": "stdout",
     "output_type": "stream",
     "text": [
      "[137] loss: 0.429\n",
      "epoch time : 129.15130925178528\n"
     ]
    },
    {
     "name": "stderr",
     "output_type": "stream",
     "text": [
      "100%|██████████| 782/782 [02:09<00:00,  6.05it/s]\n",
      "  0%|          | 1/782 [00:00<02:10,  5.97it/s]"
     ]
    },
    {
     "name": "stdout",
     "output_type": "stream",
     "text": [
      "[138] loss: 0.422\n",
      "epoch time : 129.16734504699707\n"
     ]
    },
    {
     "name": "stderr",
     "output_type": "stream",
     "text": [
      "100%|██████████| 782/782 [02:09<00:00,  6.05it/s]\n",
      "  0%|          | 1/782 [00:00<02:12,  5.90it/s]"
     ]
    },
    {
     "name": "stdout",
     "output_type": "stream",
     "text": [
      "[139] loss: 0.418\n",
      "epoch time : 129.3524534702301\n"
     ]
    },
    {
     "name": "stderr",
     "output_type": "stream",
     "text": [
      "100%|██████████| 782/782 [02:09<00:00,  6.05it/s]\n",
      "  0%|          | 1/782 [00:00<02:20,  5.58it/s]"
     ]
    },
    {
     "name": "stdout",
     "output_type": "stream",
     "text": [
      "[140] loss: 0.418\n",
      "epoch time : 129.67777180671692\n"
     ]
    },
    {
     "name": "stderr",
     "output_type": "stream",
     "text": [
      "100%|██████████| 782/782 [02:09<00:00,  6.05it/s]\n",
      "  0%|          | 1/782 [00:00<02:12,  5.88it/s]"
     ]
    },
    {
     "name": "stdout",
     "output_type": "stream",
     "text": [
      "[141] loss: 0.424\n",
      "epoch time : 129.22591543197632\n"
     ]
    },
    {
     "name": "stderr",
     "output_type": "stream",
     "text": [
      "100%|██████████| 782/782 [02:09<00:00,  6.05it/s]\n",
      "  0%|          | 1/782 [00:00<02:18,  5.65it/s]"
     ]
    },
    {
     "name": "stdout",
     "output_type": "stream",
     "text": [
      "[142] loss: 0.419\n",
      "epoch time : 129.2447214126587\n"
     ]
    },
    {
     "name": "stderr",
     "output_type": "stream",
     "text": [
      "100%|██████████| 782/782 [02:09<00:00,  6.06it/s]\n",
      "  0%|          | 1/782 [00:00<02:18,  5.66it/s]"
     ]
    },
    {
     "name": "stdout",
     "output_type": "stream",
     "text": [
      "[143] loss: 0.428\n",
      "epoch time : 129.12958359718323\n"
     ]
    },
    {
     "name": "stderr",
     "output_type": "stream",
     "text": [
      "100%|██████████| 782/782 [02:09<00:00,  6.06it/s]\n",
      "  0%|          | 1/782 [00:00<02:17,  5.69it/s]"
     ]
    },
    {
     "name": "stdout",
     "output_type": "stream",
     "text": [
      "[144] loss: 0.425\n",
      "epoch time : 129.1273729801178\n"
     ]
    },
    {
     "name": "stderr",
     "output_type": "stream",
     "text": [
      "100%|██████████| 782/782 [02:09<00:00,  6.06it/s]\n",
      "  0%|          | 1/782 [00:00<02:18,  5.64it/s]"
     ]
    },
    {
     "name": "stdout",
     "output_type": "stream",
     "text": [
      "[145] loss: 0.419\n",
      "epoch time : 129.11832880973816\n"
     ]
    },
    {
     "name": "stderr",
     "output_type": "stream",
     "text": [
      "100%|██████████| 782/782 [02:09<00:00,  6.05it/s]\n",
      "  0%|          | 1/782 [00:00<02:11,  5.92it/s]"
     ]
    },
    {
     "name": "stdout",
     "output_type": "stream",
     "text": [
      "[146] loss: 0.420\n",
      "epoch time : 129.34016728401184\n"
     ]
    },
    {
     "name": "stderr",
     "output_type": "stream",
     "text": [
      "100%|██████████| 782/782 [02:09<00:00,  6.05it/s]\n",
      "  0%|          | 1/782 [00:00<02:18,  5.65it/s]"
     ]
    },
    {
     "name": "stdout",
     "output_type": "stream",
     "text": [
      "[147] loss: 0.426\n",
      "epoch time : 129.23484253883362\n"
     ]
    },
    {
     "name": "stderr",
     "output_type": "stream",
     "text": [
      "100%|██████████| 782/782 [02:09<00:00,  6.06it/s]\n",
      "  0%|          | 1/782 [00:00<02:18,  5.64it/s]"
     ]
    },
    {
     "name": "stdout",
     "output_type": "stream",
     "text": [
      "[148] loss: 0.422\n",
      "epoch time : 129.0715389251709\n"
     ]
    },
    {
     "name": "stderr",
     "output_type": "stream",
     "text": [
      "100%|██████████| 782/782 [02:09<00:00,  6.05it/s]\n",
      "  0%|          | 1/782 [00:00<02:17,  5.67it/s]"
     ]
    },
    {
     "name": "stdout",
     "output_type": "stream",
     "text": [
      "[149] loss: 0.423\n",
      "epoch time : 129.19350051879883\n"
     ]
    },
    {
     "name": "stderr",
     "output_type": "stream",
     "text": [
      "100%|██████████| 782/782 [02:09<00:00,  6.06it/s]\n",
      "  0%|          | 1/782 [00:00<02:22,  5.49it/s]"
     ]
    },
    {
     "name": "stdout",
     "output_type": "stream",
     "text": [
      "[150] loss: 0.427\n",
      "epoch time : 129.4872007369995\n"
     ]
    },
    {
     "name": "stderr",
     "output_type": "stream",
     "text": [
      "100%|██████████| 782/782 [02:08<00:00,  6.06it/s]\n",
      "  0%|          | 1/782 [00:00<02:18,  5.64it/s]"
     ]
    },
    {
     "name": "stdout",
     "output_type": "stream",
     "text": [
      "[151] loss: 0.423\n",
      "epoch time : 129.0017101764679\n"
     ]
    },
    {
     "name": "stderr",
     "output_type": "stream",
     "text": [
      "100%|██████████| 782/782 [02:09<00:00,  6.06it/s]\n",
      "  0%|          | 1/782 [00:00<02:18,  5.66it/s]"
     ]
    },
    {
     "name": "stdout",
     "output_type": "stream",
     "text": [
      "[152] loss: 0.428\n",
      "epoch time : 129.08037281036377\n"
     ]
    },
    {
     "name": "stderr",
     "output_type": "stream",
     "text": [
      "100%|██████████| 782/782 [02:09<00:00,  6.05it/s]\n",
      "  0%|          | 1/782 [00:00<02:10,  5.97it/s]"
     ]
    },
    {
     "name": "stdout",
     "output_type": "stream",
     "text": [
      "[153] loss: 0.428\n",
      "epoch time : 129.24215292930603\n"
     ]
    },
    {
     "name": "stderr",
     "output_type": "stream",
     "text": [
      "100%|██████████| 782/782 [02:09<00:00,  6.06it/s]\n",
      "  0%|          | 1/782 [00:00<02:18,  5.65it/s]"
     ]
    },
    {
     "name": "stdout",
     "output_type": "stream",
     "text": [
      "[154] loss: 0.426\n",
      "epoch time : 129.10718274116516\n"
     ]
    },
    {
     "name": "stderr",
     "output_type": "stream",
     "text": [
      "100%|██████████| 782/782 [02:09<00:00,  6.06it/s]\n",
      "  0%|          | 1/782 [00:00<02:09,  6.01it/s]"
     ]
    },
    {
     "name": "stdout",
     "output_type": "stream",
     "text": [
      "[155] loss: 0.429\n",
      "epoch time : 129.0109236240387\n"
     ]
    },
    {
     "name": "stderr",
     "output_type": "stream",
     "text": [
      "100%|██████████| 782/782 [02:09<00:00,  6.06it/s]\n",
      "  0%|          | 1/782 [00:00<02:12,  5.87it/s]"
     ]
    },
    {
     "name": "stdout",
     "output_type": "stream",
     "text": [
      "[156] loss: 0.427\n",
      "epoch time : 129.01661729812622\n"
     ]
    },
    {
     "name": "stderr",
     "output_type": "stream",
     "text": [
      "100%|██████████| 782/782 [02:09<00:00,  6.06it/s]\n",
      "  0%|          | 1/782 [00:00<02:18,  5.64it/s]"
     ]
    },
    {
     "name": "stdout",
     "output_type": "stream",
     "text": [
      "[157] loss: 0.426\n",
      "epoch time : 129.0726158618927\n"
     ]
    },
    {
     "name": "stderr",
     "output_type": "stream",
     "text": [
      "100%|██████████| 782/782 [02:09<00:00,  6.05it/s]\n",
      "  0%|          | 1/782 [00:00<02:11,  5.93it/s]"
     ]
    },
    {
     "name": "stdout",
     "output_type": "stream",
     "text": [
      "[158] loss: 0.428\n",
      "epoch time : 129.18499159812927\n"
     ]
    },
    {
     "name": "stderr",
     "output_type": "stream",
     "text": [
      "100%|██████████| 782/782 [02:09<00:00,  6.06it/s]\n",
      "  0%|          | 1/782 [00:00<02:18,  5.64it/s]"
     ]
    },
    {
     "name": "stdout",
     "output_type": "stream",
     "text": [
      "[159] loss: 0.427\n",
      "epoch time : 129.04565501213074\n"
     ]
    },
    {
     "name": "stderr",
     "output_type": "stream",
     "text": [
      "100%|██████████| 782/782 [02:09<00:00,  6.05it/s]\n",
      "  0%|          | 1/782 [00:00<02:20,  5.56it/s]"
     ]
    },
    {
     "name": "stdout",
     "output_type": "stream",
     "text": [
      "[160] loss: 0.425\n",
      "epoch time : 129.64102029800415\n"
     ]
    },
    {
     "name": "stderr",
     "output_type": "stream",
     "text": [
      "100%|██████████| 782/782 [02:09<00:00,  6.06it/s]\n",
      "  0%|          | 1/782 [00:00<02:10,  5.98it/s]"
     ]
    },
    {
     "name": "stdout",
     "output_type": "stream",
     "text": [
      "[161] loss: 0.420\n",
      "epoch time : 129.12398672103882\n"
     ]
    },
    {
     "name": "stderr",
     "output_type": "stream",
     "text": [
      "100%|██████████| 782/782 [02:09<00:00,  6.06it/s]\n",
      "  0%|          | 1/782 [00:00<02:10,  5.97it/s]"
     ]
    },
    {
     "name": "stdout",
     "output_type": "stream",
     "text": [
      "[162] loss: 0.427\n",
      "epoch time : 129.05994391441345\n"
     ]
    },
    {
     "name": "stderr",
     "output_type": "stream",
     "text": [
      "100%|██████████| 782/782 [02:08<00:00,  6.06it/s]\n",
      "  0%|          | 1/782 [00:00<02:17,  5.66it/s]"
     ]
    },
    {
     "name": "stdout",
     "output_type": "stream",
     "text": [
      "[163] loss: 0.430\n",
      "epoch time : 128.97641253471375\n"
     ]
    },
    {
     "name": "stderr",
     "output_type": "stream",
     "text": [
      "100%|██████████| 782/782 [02:08<00:00,  6.06it/s]\n",
      "  0%|          | 1/782 [00:00<02:15,  5.78it/s]"
     ]
    },
    {
     "name": "stdout",
     "output_type": "stream",
     "text": [
      "[164] loss: 0.431\n",
      "epoch time : 128.99898409843445\n"
     ]
    },
    {
     "name": "stderr",
     "output_type": "stream",
     "text": [
      "100%|██████████| 782/782 [02:09<00:00,  6.05it/s]\n",
      "  0%|          | 1/782 [00:00<02:11,  5.96it/s]"
     ]
    },
    {
     "name": "stdout",
     "output_type": "stream",
     "text": [
      "[165] loss: 0.422\n",
      "epoch time : 129.22658038139343\n"
     ]
    },
    {
     "name": "stderr",
     "output_type": "stream",
     "text": [
      "100%|██████████| 782/782 [02:09<00:00,  6.06it/s]\n",
      "  0%|          | 1/782 [00:00<02:18,  5.64it/s]"
     ]
    },
    {
     "name": "stdout",
     "output_type": "stream",
     "text": [
      "[166] loss: 0.425\n",
      "epoch time : 129.0749819278717\n"
     ]
    },
    {
     "name": "stderr",
     "output_type": "stream",
     "text": [
      "100%|██████████| 782/782 [02:09<00:00,  6.06it/s]\n",
      "  0%|          | 1/782 [00:00<02:10,  6.00it/s]"
     ]
    },
    {
     "name": "stdout",
     "output_type": "stream",
     "text": [
      "[167] loss: 0.427\n",
      "epoch time : 129.00445008277893\n"
     ]
    },
    {
     "name": "stderr",
     "output_type": "stream",
     "text": [
      "100%|██████████| 782/782 [02:09<00:00,  6.05it/s]\n",
      "  0%|          | 1/782 [00:00<02:11,  5.95it/s]"
     ]
    },
    {
     "name": "stdout",
     "output_type": "stream",
     "text": [
      "[168] loss: 0.426\n",
      "epoch time : 129.15986800193787\n"
     ]
    },
    {
     "name": "stderr",
     "output_type": "stream",
     "text": [
      "100%|██████████| 782/782 [02:09<00:00,  6.06it/s]\n",
      "  0%|          | 1/782 [00:00<02:16,  5.73it/s]"
     ]
    },
    {
     "name": "stdout",
     "output_type": "stream",
     "text": [
      "[169] loss: 0.429\n",
      "epoch time : 129.04912638664246\n"
     ]
    },
    {
     "name": "stderr",
     "output_type": "stream",
     "text": [
      "100%|██████████| 782/782 [02:09<00:00,  6.06it/s]\n",
      "  0%|          | 1/782 [00:00<02:13,  5.84it/s]"
     ]
    },
    {
     "name": "stdout",
     "output_type": "stream",
     "text": [
      "[170] loss: 0.421\n",
      "epoch time : 129.53344535827637\n"
     ]
    },
    {
     "name": "stderr",
     "output_type": "stream",
     "text": [
      "100%|██████████| 782/782 [02:08<00:00,  6.06it/s]\n",
      "  0%|          | 1/782 [00:00<02:13,  5.86it/s]"
     ]
    },
    {
     "name": "stdout",
     "output_type": "stream",
     "text": [
      "[171] loss: 0.428\n",
      "epoch time : 128.95469665527344\n"
     ]
    },
    {
     "name": "stderr",
     "output_type": "stream",
     "text": [
      "100%|██████████| 782/782 [02:08<00:00,  6.06it/s]\n",
      "  0%|          | 1/782 [00:00<02:10,  5.96it/s]"
     ]
    },
    {
     "name": "stdout",
     "output_type": "stream",
     "text": [
      "[172] loss: 0.432\n",
      "epoch time : 128.97114396095276\n"
     ]
    },
    {
     "name": "stderr",
     "output_type": "stream",
     "text": [
      "100%|██████████| 782/782 [02:08<00:00,  6.07it/s]\n",
      "  0%|          | 1/782 [00:00<02:17,  5.68it/s]"
     ]
    },
    {
     "name": "stdout",
     "output_type": "stream",
     "text": [
      "[173] loss: 0.432\n",
      "epoch time : 128.93600606918335\n"
     ]
    },
    {
     "name": "stderr",
     "output_type": "stream",
     "text": [
      "100%|██████████| 782/782 [02:09<00:00,  6.05it/s]\n",
      "  0%|          | 1/782 [00:00<02:18,  5.65it/s]"
     ]
    },
    {
     "name": "stdout",
     "output_type": "stream",
     "text": [
      "[174] loss: 0.429\n",
      "epoch time : 129.1611442565918\n"
     ]
    },
    {
     "name": "stderr",
     "output_type": "stream",
     "text": [
      "100%|██████████| 782/782 [02:08<00:00,  6.06it/s]\n",
      "  0%|          | 1/782 [00:00<02:18,  5.65it/s]"
     ]
    },
    {
     "name": "stdout",
     "output_type": "stream",
     "text": [
      "[175] loss: 0.436\n",
      "epoch time : 128.94690918922424\n"
     ]
    },
    {
     "name": "stderr",
     "output_type": "stream",
     "text": [
      "100%|██████████| 782/782 [02:09<00:00,  6.06it/s]\n",
      "  0%|          | 1/782 [00:00<02:11,  5.93it/s]"
     ]
    },
    {
     "name": "stdout",
     "output_type": "stream",
     "text": [
      "[176] loss: 0.434\n",
      "epoch time : 129.03033566474915\n"
     ]
    },
    {
     "name": "stderr",
     "output_type": "stream",
     "text": [
      "100%|██████████| 782/782 [02:08<00:00,  6.06it/s]\n",
      "  0%|          | 1/782 [00:00<02:18,  5.66it/s]"
     ]
    },
    {
     "name": "stdout",
     "output_type": "stream",
     "text": [
      "[177] loss: 0.432\n",
      "epoch time : 128.97178316116333\n"
     ]
    },
    {
     "name": "stderr",
     "output_type": "stream",
     "text": [
      "100%|██████████| 782/782 [02:08<00:00,  6.07it/s]\n",
      "  0%|          | 1/782 [00:00<02:10,  5.99it/s]"
     ]
    },
    {
     "name": "stdout",
     "output_type": "stream",
     "text": [
      "[178] loss: 0.426\n",
      "epoch time : 128.9286720752716\n"
     ]
    },
    {
     "name": "stderr",
     "output_type": "stream",
     "text": [
      "100%|██████████| 782/782 [02:08<00:00,  6.07it/s]\n",
      "  0%|          | 1/782 [00:00<02:11,  5.94it/s]"
     ]
    },
    {
     "name": "stdout",
     "output_type": "stream",
     "text": [
      "[179] loss: 0.436\n",
      "epoch time : 128.9175591468811\n"
     ]
    },
    {
     "name": "stderr",
     "output_type": "stream",
     "text": [
      "100%|██████████| 782/782 [02:08<00:00,  6.07it/s]\n",
      "  0%|          | 1/782 [00:00<02:20,  5.54it/s]"
     ]
    },
    {
     "name": "stdout",
     "output_type": "stream",
     "text": [
      "[180] loss: 0.434\n",
      "epoch time : 129.2386655807495\n"
     ]
    },
    {
     "name": "stderr",
     "output_type": "stream",
     "text": [
      "100%|██████████| 782/782 [02:08<00:00,  6.06it/s]\n",
      "  0%|          | 1/782 [00:00<02:17,  5.67it/s]"
     ]
    },
    {
     "name": "stdout",
     "output_type": "stream",
     "text": [
      "[181] loss: 0.434\n",
      "epoch time : 128.99391889572144\n"
     ]
    },
    {
     "name": "stderr",
     "output_type": "stream",
     "text": [
      "100%|██████████| 782/782 [02:08<00:00,  6.07it/s]\n",
      "  0%|          | 1/782 [00:00<02:17,  5.67it/s]"
     ]
    },
    {
     "name": "stdout",
     "output_type": "stream",
     "text": [
      "[182] loss: 0.434\n",
      "epoch time : 128.83845567703247\n"
     ]
    },
    {
     "name": "stderr",
     "output_type": "stream",
     "text": [
      "100%|██████████| 782/782 [02:08<00:00,  6.06it/s]\n",
      "  0%|          | 1/782 [00:00<02:18,  5.65it/s]"
     ]
    },
    {
     "name": "stdout",
     "output_type": "stream",
     "text": [
      "[183] loss: 0.424\n",
      "epoch time : 128.9394941329956\n"
     ]
    },
    {
     "name": "stderr",
     "output_type": "stream",
     "text": [
      "100%|██████████| 782/782 [02:08<00:00,  6.07it/s]\n",
      "  0%|          | 1/782 [00:00<02:13,  5.85it/s]"
     ]
    },
    {
     "name": "stdout",
     "output_type": "stream",
     "text": [
      "[184] loss: 0.426\n",
      "epoch time : 128.90121698379517\n"
     ]
    },
    {
     "name": "stderr",
     "output_type": "stream",
     "text": [
      "100%|██████████| 782/782 [02:08<00:00,  6.07it/s]\n",
      "  0%|          | 1/782 [00:00<02:17,  5.67it/s]"
     ]
    },
    {
     "name": "stdout",
     "output_type": "stream",
     "text": [
      "[185] loss: 0.433\n",
      "epoch time : 128.84872555732727\n"
     ]
    },
    {
     "name": "stderr",
     "output_type": "stream",
     "text": [
      "100%|██████████| 782/782 [02:08<00:00,  6.07it/s]\n",
      "  0%|          | 1/782 [00:00<02:17,  5.67it/s]"
     ]
    },
    {
     "name": "stdout",
     "output_type": "stream",
     "text": [
      "[186] loss: 0.432\n",
      "epoch time : 128.90971684455872\n"
     ]
    },
    {
     "name": "stderr",
     "output_type": "stream",
     "text": [
      "100%|██████████| 782/782 [02:08<00:00,  6.07it/s]\n",
      "  0%|          | 1/782 [00:00<02:13,  5.84it/s]"
     ]
    },
    {
     "name": "stdout",
     "output_type": "stream",
     "text": [
      "[187] loss: 0.439\n",
      "epoch time : 128.7848048210144\n"
     ]
    },
    {
     "name": "stderr",
     "output_type": "stream",
     "text": [
      "100%|██████████| 782/782 [02:08<00:00,  6.07it/s]\n",
      "  0%|          | 1/782 [00:00<02:23,  5.46it/s]"
     ]
    },
    {
     "name": "stdout",
     "output_type": "stream",
     "text": [
      "[188] loss: 0.436\n",
      "epoch time : 128.7718687057495\n"
     ]
    },
    {
     "name": "stderr",
     "output_type": "stream",
     "text": [
      "100%|██████████| 782/782 [02:08<00:00,  6.07it/s]\n",
      "  0%|          | 1/782 [00:00<02:10,  6.00it/s]"
     ]
    },
    {
     "name": "stdout",
     "output_type": "stream",
     "text": [
      "[189] loss: 0.435\n",
      "epoch time : 128.84494376182556\n"
     ]
    },
    {
     "name": "stderr",
     "output_type": "stream",
     "text": [
      "100%|██████████| 782/782 [02:08<00:00,  6.07it/s]\n",
      "  0%|          | 1/782 [00:00<02:12,  5.88it/s]"
     ]
    },
    {
     "name": "stdout",
     "output_type": "stream",
     "text": [
      "[190] loss: 0.438\n",
      "epoch time : 129.30399632453918\n"
     ]
    },
    {
     "name": "stderr",
     "output_type": "stream",
     "text": [
      "100%|██████████| 782/782 [02:08<00:00,  6.07it/s]\n",
      "  0%|          | 1/782 [00:00<02:17,  5.67it/s]"
     ]
    },
    {
     "name": "stdout",
     "output_type": "stream",
     "text": [
      "[191] loss: 0.429\n",
      "epoch time : 128.8546860218048\n"
     ]
    },
    {
     "name": "stderr",
     "output_type": "stream",
     "text": [
      "100%|██████████| 782/782 [02:08<00:00,  6.08it/s]\n",
      "  0%|          | 1/782 [00:00<02:12,  5.89it/s]"
     ]
    },
    {
     "name": "stdout",
     "output_type": "stream",
     "text": [
      "[192] loss: 0.434\n",
      "epoch time : 128.64565587043762\n"
     ]
    },
    {
     "name": "stderr",
     "output_type": "stream",
     "text": [
      "100%|██████████| 782/782 [02:08<00:00,  6.07it/s]\n",
      "  0%|          | 1/782 [00:00<02:17,  5.67it/s]"
     ]
    },
    {
     "name": "stdout",
     "output_type": "stream",
     "text": [
      "[193] loss: 0.445\n",
      "epoch time : 128.81074213981628\n"
     ]
    },
    {
     "name": "stderr",
     "output_type": "stream",
     "text": [
      "100%|██████████| 782/782 [02:08<00:00,  6.07it/s]\n",
      "  0%|          | 1/782 [00:00<02:17,  5.67it/s]"
     ]
    },
    {
     "name": "stdout",
     "output_type": "stream",
     "text": [
      "[194] loss: 0.433\n",
      "epoch time : 128.80187058448792\n"
     ]
    },
    {
     "name": "stderr",
     "output_type": "stream",
     "text": [
      "100%|██████████| 782/782 [02:08<00:00,  6.07it/s]\n",
      "  0%|          | 1/782 [00:00<02:10,  5.97it/s]"
     ]
    },
    {
     "name": "stdout",
     "output_type": "stream",
     "text": [
      "[195] loss: 0.433\n",
      "epoch time : 128.78256106376648\n"
     ]
    },
    {
     "name": "stderr",
     "output_type": "stream",
     "text": [
      "100%|██████████| 782/782 [02:08<00:00,  6.08it/s]\n",
      "  0%|          | 1/782 [00:00<02:09,  6.01it/s]"
     ]
    },
    {
     "name": "stdout",
     "output_type": "stream",
     "text": [
      "[196] loss: 0.432\n",
      "epoch time : 128.63010787963867\n"
     ]
    },
    {
     "name": "stderr",
     "output_type": "stream",
     "text": [
      "100%|██████████| 782/782 [02:08<00:00,  6.08it/s]\n",
      "  0%|          | 1/782 [00:00<02:09,  6.02it/s]"
     ]
    },
    {
     "name": "stdout",
     "output_type": "stream",
     "text": [
      "[197] loss: 0.435\n",
      "epoch time : 128.6254117488861\n"
     ]
    },
    {
     "name": "stderr",
     "output_type": "stream",
     "text": [
      "100%|██████████| 782/782 [02:08<00:00,  6.07it/s]\n",
      "  0%|          | 1/782 [00:00<02:10,  5.99it/s]"
     ]
    },
    {
     "name": "stdout",
     "output_type": "stream",
     "text": [
      "[198] loss: 0.438\n",
      "epoch time : 128.86294627189636\n"
     ]
    },
    {
     "name": "stderr",
     "output_type": "stream",
     "text": [
      "100%|██████████| 782/782 [02:08<00:00,  6.08it/s]\n",
      "  0%|          | 1/782 [00:00<02:09,  6.02it/s]"
     ]
    },
    {
     "name": "stdout",
     "output_type": "stream",
     "text": [
      "[199] loss: 0.437\n",
      "epoch time : 128.60621643066406\n"
     ]
    },
    {
     "name": "stderr",
     "output_type": "stream",
     "text": [
      "100%|██████████| 782/782 [02:08<00:00,  6.08it/s]\n"
     ]
    },
    {
     "name": "stdout",
     "output_type": "stream",
     "text": [
      "[200] loss: 0.436\n",
      "epoch time : 129.04222583770752\n"
     ]
    }
   ],
   "source": [
    "# criterion. 변경 '가능'\n",
    "criterion = nn.CrossEntropyLoss()\n",
    "\n",
    "# Optimizer\n",
    "optimizer = optim.SGD(model.parameters(), lr=learning_rate, momentum=momentum, weight_decay=weight_decay)\n",
    "\n",
    "# Learning Rate Scheduler\n",
    "scheduler = optim.lr_scheduler.StepLR(optimizer, step_size=60, gamma=0.2, verbose=True)\n",
    "\n",
    "loss_ = []\n",
    "n = len(trainloader)  # number of batches\n",
    "\n",
    "# Training\n",
    "for epoch in range(EPOCH): \n",
    "\n",
    "  running_loss = 0.0\n",
    "  start = time.time()\n",
    "  pbar = tqdm(trainloader)\n",
    "  for batch, (X, y) in enumerate(pbar):\n",
    "    \n",
    "    X, y = X.to(device), y.to(device)\n",
    "    optimizer.zero_grad() # 배치마다 optimizer 초기화\n",
    "\n",
    "    pred = model(X) \n",
    "    loss = criterion(pred, y) # 크로스 엔트로피 손실함수 계산 \n",
    "      \n",
    "\n",
    "    loss.backward() # backpropagation\n",
    "    optimizer.step() # 가중치 최적화\n",
    "\n",
    "    running_loss += loss.item()\n",
    "  \n",
    "  if (epoch + 1) % 10 == 0:\n",
    "    dir = './model_' + str(epoch) + '.pt'\n",
    "    torch.save(model.state_dict() , dir) # 모델 저장, path 수정\n",
    "  loss_.append(running_loss / n)\n",
    "  print('[%d] loss: %.3f' %(epoch + 1, running_loss / len(trainloader)))\n",
    "  print(\"epoch time :\", time.time()-start)\n",
    "\n",
    "\n"
   ]
  },
  {
   "cell_type": "markdown",
   "metadata": {
    "id": "sf9UIvloTtt2"
   },
   "source": [
    "# Evaluation"
   ]
  },
  {
   "cell_type": "code",
   "execution_count": 7,
   "metadata": {
    "id": "amoq6d5NMYvA"
   },
   "outputs": [
    {
     "name": "stdout",
     "output_type": "stream",
     "text": [
      "Accuracy of the network on the 10000 test images: 81 %\n",
      "Accuracy for class plane is: 84.4 %\n",
      "Accuracy for class car   is: 92.0 %\n",
      "Accuracy for class bird  is: 68.3 %\n",
      "Accuracy for class cat   is: 54.4 %\n",
      "Accuracy for class deer  is: 85.2 %\n",
      "Accuracy for class dog   is: 84.4 %\n",
      "Accuracy for class frog  is: 89.5 %\n",
      "Accuracy for class horse is: 82.0 %\n",
      "Accuracy for class ship  is: 87.0 %\n",
      "Accuracy for class truck is: 89.2 %\n"
     ]
    }
   ],
   "source": [
    "# Evaluation\n",
    "\n",
    "# 수정\n",
    "# net = ResNet152().to(device)\n",
    "net = model\n",
    "# net.load_state_dict(torch.load('/content/gdrive/MyDrive/Baseline//model_ckpt.pt')) # 저장된 모델 불러오기\n",
    "\n",
    "\n",
    "# 이하 전체 수정 불가\n",
    "correct = 0\n",
    "total = 0\n",
    "correct_pred = {classname: 0 for classname in classes}\n",
    "total_pred = {classname: 0 for classname in classes}\n",
    "# since we're not training, we don't need to calculate the gradients for our outputs\n",
    "with torch.no_grad():\n",
    "    for data in testloader:\n",
    "        images, labels = data[0].to(device), data[1].to(device)\n",
    "        # calculate outputs by running images through the network\n",
    "        outputs = net(images)\n",
    "        # the class with the highest energy is what we choose as prediction\n",
    "        _, predicted = torch.max(outputs.data, 1)\n",
    "        total += labels.size(0)\n",
    "        correct += (predicted == labels).sum().item()\n",
    "        # collect the correct predictions for each class\n",
    "        for label, prediction in zip(labels, predicted):\n",
    "            if label == prediction:\n",
    "                correct_pred[classes[label]] += 1\n",
    "            total_pred[classes[label]] += 1\n",
    "\n",
    "print('Accuracy of the network on the 10000 test images: %d %%' % (\n",
    "    100 * correct / total))\n",
    "\n",
    "# print accuracy for each class\n",
    "for classname, correct_count in correct_pred.items():\n",
    "    accuracy = 100 * float(correct_count) / total_pred[classname]\n",
    "    print(\"Accuracy for class {:5s} is: {:.1f} %\".format(classname,\n",
    "                                                   accuracy))"
   ]
  },
  {
   "cell_type": "code",
   "execution_count": 8,
   "metadata": {
    "id": "1lUnuy-g4Aiq"
   },
   "outputs": [
    {
     "data": {
      "image/png": "[encoded data removed]",
      "text/plain": [
       "<Figure size 1440x720 with 1 Axes>"
      ]
     },
     "metadata": {
      "needs_background": "light"
     },
     "output_type": "display_data"
    },
    {
     "name": "stdout",
     "output_type": "stream",
     "text": [
      "GroundTruth:    cat  ship  ship plane  frog  frog   car  frog\n",
      "Predicted:  horse   dog  ship plane  ship  deer horse plane\n"
     ]
    }
   ],
   "source": [
    "import matplotlib.pyplot as plt\n",
    "import numpy as np\n",
    "\n",
    "def imshow(img):\n",
    "    img = img / 2 + 0.5     # unnormalize\n",
    "    npimg = img.numpy()\n",
    "    plt.figure(figsize=(20,10))\n",
    "    plt.imshow(np.transpose(npimg, (1, 2, 0)))\n",
    "    plt.show()\n",
    "\n",
    "dataiter = iter(testloader)\n",
    "images, labels = dataiter.next()\n",
    "\n",
    "# print images\n",
    "imshow(torchvision.utils.make_grid(images))\n",
    "print('GroundTruth: ', ' '.join('%5s' % classes[labels[j]] for j in range(8)))\n",
    "\n",
    "net = model\n",
    "# net = Net()\n",
    "# net.to(device)\n",
    "# net.load_state_dict(torch.load('/content/gdrive/MyDrive/Baseline//model_ckpt.pt'))\n",
    "\n",
    "_, predicted = torch.max(outputs, 1)\n",
    "\n",
    "print('Predicted: ', ' '.join('%5s' % classes[predicted[j]]\n",
    "                              for j in range(8)))"
   ]
  }
 ],
 "metadata": {
  "accelerator": "GPU",
  "colab": {
   "collapsed_sections": [],
   "name": "WideResNet.ipynb",
   "provenance": []
  },
  "kernelspec": {
   "display_name": "Python 3",
   "language": "python",
   "name": "python3"
  },
  "language_info": {
   "codemirror_mode": {
    "name": "ipython",
    "version": 3
   },
   "file_extension": ".py",
   "mimetype": "text/x-python",
   "name": "python",
   "nbconvert_exporter": "python",
   "pygments_lexer": "ipython3",
   "version": "3.6.9"
  },
  "widgets": {
   "application/vnd.jupyter.widget-state+json": {
    "117786fb9ad04bbfba9000efc67417ca": {
     "model_module": "@jupyter-widgets/base",
     "model_module_version": "1.2.0",
     "model_name": "LayoutModel",
     "state": {
      "_model_module": "@jupyter-widgets/base",
      "_model_module_version": "1.2.0",
      "_model_name": "LayoutModel",
      "_view_count": null,
      "_view_module": "@jupyter-widgets/base",
      "_view_module_version": "1.2.0",
      "_view_name": "LayoutView",
      "align_content": null,
      "align_items": null,
      "align_self": null,
      "border": null,
      "bottom": null,
      "display": null,
      "flex": null,
      "flex_flow": null,
      "grid_area": null,
      "grid_auto_columns": null,
      "grid_auto_flow": null,
      "grid_auto_rows": null,
      "grid_column": null,
      "grid_gap": null,
      "grid_row": null,
      "grid_template_areas": null,
      "grid_template_columns": null,
      "grid_template_rows": null,
      "height": null,
      "justify_content": null,
      "justify_items": null,
      "left": null,
      "margin": null,
      "max_height": null,
      "max_width": null,
      "min_height": null,
      "min_width": null,
      "object_fit": null,
      "object_position": null,
      "order": null,
      "overflow": null,
      "overflow_x": null,
      "overflow_y": null,
      "padding": null,
      "right": null,
      "top": null,
      "visibility": null,
      "width": null
     }
    },
    "1996b2035d394feb8ddea161be66e787": {
     "model_module": "@jupyter-widgets/controls",
     "model_module_version": "1.5.0",
     "model_name": "HBoxModel",
     "state": {
      "_dom_classes": [],
      "_model_module": "@jupyter-widgets/controls",
      "_model_module_version": "1.5.0",
      "_model_name": "HBoxModel",
      "_view_count": null,
      "_view_module": "@jupyter-widgets/controls",
      "_view_module_version": "1.5.0",
      "_view_name": "HBoxView",
      "box_style": "",
      "children": [
       "IPY_MODEL_2d011007d89c4aad96b59ab60216ab9b",
       "IPY_MODEL_3d976f276c2242bdb3dc84857838b627",
       "IPY_MODEL_69306e2c35aa46e8b951227a9c3e9696"
      ],
      "layout": "IPY_MODEL_9acbedbeaa724ce08dffeddc71222505"
     }
    },
    "2d011007d89c4aad96b59ab60216ab9b": {
     "model_module": "@jupyter-widgets/controls",
     "model_module_version": "1.5.0",
     "model_name": "HTMLModel",
     "state": {
      "_dom_classes": [],
      "_model_module": "@jupyter-widgets/controls",
      "_model_module_version": "1.5.0",
      "_model_name": "HTMLModel",
      "_view_count": null,
      "_view_module": "@jupyter-widgets/controls",
      "_view_module_version": "1.5.0",
      "_view_name": "HTMLView",
      "description": "",
      "description_tooltip": null,
      "layout": "IPY_MODEL_117786fb9ad04bbfba9000efc67417ca",
      "placeholder": "​",
      "style": "IPY_MODEL_a0b54dda21fc4fc8b8262d899d385dfe",
      "value": ""
     }
    },
    "30bffec40690426489b084343473f2bb": {
     "model_module": "@jupyter-widgets/controls",
     "model_module_version": "1.5.0",
     "model_name": "ProgressStyleModel",
     "state": {
      "_model_module": "@jupyter-widgets/controls",
      "_model_module_version": "1.5.0",
      "_model_name": "ProgressStyleModel",
      "_view_count": null,
      "_view_module": "@jupyter-widgets/base",
      "_view_module_version": "1.2.0",
      "_view_name": "StyleView",
      "bar_color": null,
      "description_width": ""
     }
    },
    "3d976f276c2242bdb3dc84857838b627": {
     "model_module": "@jupyter-widgets/controls",
     "model_module_version": "1.5.0",
     "model_name": "FloatProgressModel",
     "state": {
      "_dom_classes": [],
      "_model_module": "@jupyter-widgets/controls",
      "_model_module_version": "1.5.0",
      "_model_name": "FloatProgressModel",
      "_view_count": null,
      "_view_module": "@jupyter-widgets/controls",
      "_view_module_version": "1.5.0",
      "_view_name": "ProgressView",
      "bar_style": "success",
      "description": "",
      "description_tooltip": null,
      "layout": "IPY_MODEL_a7f8572bbbcb42c39c2bd7287d4ccdba",
      "max": 170498071,
      "min": 0,
      "orientation": "horizontal",
      "style": "IPY_MODEL_30bffec40690426489b084343473f2bb",
      "value": 170498071
     }
    },
    "4c74f0cd1e2d461a8b64740fa8b61c29": {
     "model_module": "@jupyter-widgets/base",
     "model_module_version": "1.2.0",
     "model_name": "LayoutModel",
     "state": {
      "_model_module": "@jupyter-widgets/base",
      "_model_module_version": "1.2.0",
      "_model_name": "LayoutModel",
      "_view_count": null,
      "_view_module": "@jupyter-widgets/base",
      "_view_module_version": "1.2.0",
      "_view_name": "LayoutView",
      "align_content": null,
      "align_items": null,
      "align_self": null,
      "border": null,
      "bottom": null,
      "display": null,
      "flex": null,
      "flex_flow": null,
      "grid_area": null,
      "grid_auto_columns": null,
      "grid_auto_flow": null,
      "grid_auto_rows": null,
      "grid_column": null,
      "grid_gap": null,
      "grid_row": null,
      "grid_template_areas": null,
      "grid_template_columns": null,
      "grid_template_rows": null,
      "height": null,
      "justify_content": null,
      "justify_items": null,
      "left": null,
      "margin": null,
      "max_height": null,
      "max_width": null,
      "min_height": null,
      "min_width": null,
      "object_fit": null,
      "object_position": null,
      "order": null,
      "overflow": null,
      "overflow_x": null,
      "overflow_y": null,
      "padding": null,
      "right": null,
      "top": null,
      "visibility": null,
      "width": null
     }
    },
    "665730bcefbd4ec79ff322d8fdcac2fe": {
     "model_module": "@jupyter-widgets/controls",
     "model_module_version": "1.5.0",
     "model_name": "DescriptionStyleModel",
     "state": {
      "_model_module": "@jupyter-widgets/controls",
      "_model_module_version": "1.5.0",
      "_model_name": "DescriptionStyleModel",
      "_view_count": null,
      "_view_module": "@jupyter-widgets/base",
      "_view_module_version": "1.2.0",
      "_view_name": "StyleView",
      "description_width": ""
     }
    },
    "69306e2c35aa46e8b951227a9c3e9696": {
     "model_module": "@jupyter-widgets/controls",
     "model_module_version": "1.5.0",
     "model_name": "HTMLModel",
     "state": {
      "_dom_classes": [],
      "_model_module": "@jupyter-widgets/controls",
      "_model_module_version": "1.5.0",
      "_model_name": "HTMLModel",
      "_view_count": null,
      "_view_module": "@jupyter-widgets/controls",
      "_view_module_version": "1.5.0",
      "_view_name": "HTMLView",
      "description": "",
      "description_tooltip": null,
      "layout": "IPY_MODEL_4c74f0cd1e2d461a8b64740fa8b61c29",
      "placeholder": "​",
      "style": "IPY_MODEL_665730bcefbd4ec79ff322d8fdcac2fe",
      "value": " 170499072/? [00:03&lt;00:00, 54078059.84it/s]"
     }
    },
    "9acbedbeaa724ce08dffeddc71222505": {
     "model_module": "@jupyter-widgets/base",
     "model_module_version": "1.2.0",
     "model_name": "LayoutModel",
     "state": {
      "_model_module": "@jupyter-widgets/base",
      "_model_module_version": "1.2.0",
      "_model_name": "LayoutModel",
      "_view_count": null,
      "_view_module": "@jupyter-widgets/base",
      "_view_module_version": "1.2.0",
      "_view_name": "LayoutView",
      "align_content": null,
      "align_items": null,
      "align_self": null,
      "border": null,
      "bottom": null,
      "display": null,
      "flex": null,
      "flex_flow": null,
      "grid_area": null,
      "grid_auto_columns": null,
      "grid_auto_flow": null,
      "grid_auto_rows": null,
      "grid_column": null,
      "grid_gap": null,
      "grid_row": null,
      "grid_template_areas": null,
      "grid_template_columns": null,
      "grid_template_rows": null,
      "height": null,
      "justify_content": null,
      "justify_items": null,
      "left": null,
      "margin": null,
      "max_height": null,
      "max_width": null,
      "min_height": null,
      "min_width": null,
      "object_fit": null,
      "object_position": null,
      "order": null,
      "overflow": null,
      "overflow_x": null,
      "overflow_y": null,
      "padding": null,
      "right": null,
      "top": null,
      "visibility": null,
      "width": null
     }
    },
    "a0b54dda21fc4fc8b8262d899d385dfe": {
     "model_module": "@jupyter-widgets/controls",
     "model_module_version": "1.5.0",
     "model_name": "DescriptionStyleModel",
     "state": {
      "_model_module": "@jupyter-widgets/controls",
      "_model_module_version": "1.5.0",
      "_model_name": "DescriptionStyleModel",
      "_view_count": null,
      "_view_module": "@jupyter-widgets/base",
      "_view_module_version": "1.2.0",
      "_view_name": "StyleView",
      "description_width": ""
     }
    },
    "a7f8572bbbcb42c39c2bd7287d4ccdba": {
     "model_module": "@jupyter-widgets/base",
     "model_module_version": "1.2.0",
     "model_name": "LayoutModel",
     "state": {
      "_model_module": "@jupyter-widgets/base",
      "_model_module_version": "1.2.0",
      "_model_name": "LayoutModel",
      "_view_count": null,
      "_view_module": "@jupyter-widgets/base",
      "_view_module_version": "1.2.0",
      "_view_name": "LayoutView",
      "align_content": null,
      "align_items": null,
      "align_self": null,
      "border": null,
      "bottom": null,
      "display": null,
      "flex": null,
      "flex_flow": null,
      "grid_area": null,
      "grid_auto_columns": null,
      "grid_auto_flow": null,
      "grid_auto_rows": null,
      "grid_column": null,
      "grid_gap": null,
      "grid_row": null,
      "grid_template_areas": null,
      "grid_template_columns": null,
      "grid_template_rows": null,
      "height": null,
      "justify_content": null,
      "justify_items": null,
      "left": null,
      "margin": null,
      "max_height": null,
      "max_width": null,
      "min_height": null,
      "min_width": null,
      "object_fit": null,
      "object_position": null,
      "order": null,
      "overflow": null,
      "overflow_x": null,
      "overflow_y": null,
      "padding": null,
      "right": null,
      "top": null,
      "visibility": null,
      "width": null
     }
    }
   }
  }
 },
 "nbformat": 4,
 "nbformat_minor": 1
}
